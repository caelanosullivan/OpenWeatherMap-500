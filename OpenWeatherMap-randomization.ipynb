{
 "cells": [
  {
   "cell_type": "code",
   "execution_count": null,
   "metadata": {
    "collapsed": true
   },
   "outputs": [],
   "source": [
    "# Latitude values are measured relative to the equator and range from -90° at the South Pole to +90° at the North Pole. Longitude values are measured relative to the prime meridian. They range from -180° when traveling west to 180° when traveling east. If the prime meridian is at Greenwich, then Australia, which is south of the equator and east of Greenwich, has positive longitude values and negative latitude values.\n",
    "# http://desktop.arcgis.com/en/arcmap/10.3/guide-books/map-projections/about-geographic-coordinate-systems.htm\n",
    "# citipy??\n",
    "\n",
    "# Name a city, feed to OWM\n",
    "# Peform weather check\n",
    "# Understand JSON set up\n",
    "# Identify Temp, Humid, Cloud, Wind Speed\n",
    "\n",
    "# Randomly generate 1 lat/long combo within repspective ranges\n",
    "# Test in Google API; get city name\n",
    "# Feed to OWM\n",
    "# Pull stuff from JSON\n",
    "\n",
    "# Randomly generate 500 lat/longs\n",
    "# Google API to report city names\n",
    "# Print this!\n",
    "\n",
    "# Feed list to OWM\n",
    "# Loop for info\n",
    "# Store\n",
    "\n",
    "# Create graphs\n",
    "# Done"
   ]
  },
  {
   "cell_type": "code",
   "execution_count": null,
   "metadata": {
    "collapsed": true
   },
   "outputs": [],
   "source": []
  }
 ],
 "metadata": {
  "kernelspec": {
   "display_name": "Python 3",
   "language": "python",
   "name": "python3"
  },
  "language_info": {
   "codemirror_mode": {
    "name": "ipython",
    "version": 3
   },
   "file_extension": ".py",
   "mimetype": "text/x-python",
   "name": "python",
   "nbconvert_exporter": "python",
   "pygments_lexer": "ipython3",
   "version": "3.6.2"
  }
 },
 "nbformat": 4,
 "nbformat_minor": 2
}
