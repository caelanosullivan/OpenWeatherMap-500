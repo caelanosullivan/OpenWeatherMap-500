{
 "cells": [
  {
   "cell_type": "code",
   "execution_count": 161,
   "metadata": {
    "collapsed": true
   },
   "outputs": [],
   "source": [
    "# Latitude values are measured relative to the equator and range from -90° at the South Pole to +90° at the North Pole. Longitude values are measured relative to the prime meridian. They range from -180° when traveling west to 180° when traveling east. If the prime meridian is at Greenwich, then Australia, which is south of the equator and east of Greenwich, has positive longitude values and negative latitude values.\n",
    "# http://desktop.arcgis.com/en/arcmap/10.3/guide-books/map-projections/about-geographic-coordinate-systems.htm\n",
    "# citipy??\n",
    "\n",
    "# X Name a city, feed to OWM\n",
    "# X Peform weather check\n",
    "# X Understand JSON set up\n",
    "# X Identify Temp, Humid, Cloud, Wind Speed\n",
    "\n",
    "# X Randomly generate 1 lat/long combo within repspective ranges\n",
    "# X Test in CitiPy; get city name\n",
    "# X Feed to OWM\n",
    "# Pull stuff from JSON\n",
    "\n",
    "# X ok - Randomly generate 500 lat/longs\n",
    "# Kill dupes\n",
    "# X Citipy\n",
    "# Print this!\n",
    "\n",
    "# X Feed list to OWM\n",
    "# X Loop for info\n",
    "# X If 404, lat/longLIST.POP? and CONTINUE\n",
    "# X Store\n",
    "\n",
    "# Csv: csvpath = os.path.join(\"04-Pandas\",\"1\",\"Activities\", \"02-Stu_NetflixRemix\", \"Resources\",\"netflix_ratings.csv\")\n",
    "# Save the DataFrame as a csv\n",
    "###*** dataframe.to_csv(\"output_analysis/zip_bank_data.csv\", encoding=\"utf-8\", index=False)\n",
    "\n",
    "# Create graphs\n",
    "# Done\n",
    "\n",
    "#404: http://api.openweathermap.org/data/2.5/weather?q=grand+river+south+east%2Cmu&units=IMPERIAL&mode=json&APPID=84e9790cfed06e9f791a3c163ba4c987"
   ]
  },
  {
   "cell_type": "markdown",
   "metadata": {},
   "source": [
    "#How to work with citipy:\n",
    "\n",
    "lat = 20\n",
    ">>> lon = 75\n",
    ">>> city = citipy.nearest_city(lat, lon)\n",
    ">>> print(city)\n",
    "<citipy.citipy.City object at 0x109724f98>\n",
    ">>> city.city_name\n",
    "'khuldabad'\n",
    ">>> city.country_code\n",
    "'in'\n",
    "\n",
    "Openweather: Please, always use your API keys as &APPID=key\n"
   ]
  },
  {
   "cell_type": "markdown",
   "metadata": {},
   "source": [
    "lats = np.random.uniform(low=-90.000, high=90.000, size=1500)\n",
    "lngs = np.random.uniform(low=-180.000, high=180.000, size=1500)\n",
    "\n",
    "just a heads up, using randomly generated lats/longs can pick points in the ocean. citipy.nearest_city can be used to find cities that can be queried on\n",
    "\n",
    "Processing Record 1 of Set 1 | longyearbyen"
   ]
  },
  {
   "cell_type": "code",
   "execution_count": 162,
   "metadata": {
    "collapsed": true
   },
   "outputs": [],
   "source": [
    "# Import Dependencies\n",
    "import numpy as np\n",
    "import matplotlib.pyplot as plt\n",
    "import pandas as pd\n",
    "import json\n",
    "import requests\n",
    "import datetime\n",
    "from citipy import citipy\n",
    "from config import api_key"
   ]
  },
  {
   "cell_type": "markdown",
   "metadata": {},
   "source": [
    "#api.openweathermap.org/data/2.5/weather?q=London,uk\n",
    "\n",
    "target_url = \"http://api.openweathermap.org/data/2.5/weather\" \\\n",
    "    \"?q=Phoenix,us&units=IMPERIAL&mode=json&APPID=\" + api_key\n",
    "    \n",
    "#api.openweathermap.org/data/2.5/weather?q=London,uk"
   ]
  },
  {
   "cell_type": "code",
   "execution_count": 163,
   "metadata": {
    "collapsed": true
   },
   "outputs": [],
   "source": [
    "base_url = \"http://api.openweathermap.org/data/2.5/weather\"\n",
    "\n",
    "params = {\n",
    "    \"q\": \"New York,US\",\n",
    "    \"units\": \"IMPERIAL\",\n",
    "    \"mode\": \"json\",\n",
    "    \"APPID\": api_key\n",
    "}"
   ]
  },
  {
   "cell_type": "code",
   "execution_count": 164,
   "metadata": {
    "scrolled": true
   },
   "outputs": [
    {
     "name": "stdout",
     "output_type": "stream",
     "text": [
      "http://api.openweathermap.org/data/2.5/weather?q=New+York%2CUS&units=IMPERIAL&mode=json&APPID=84e9790cfed06e9f791a3c163ba4c987\n"
     ]
    }
   ],
   "source": [
    "response = requests.get(base_url, params=params)\n",
    "print(response.url)"
   ]
  },
  {
   "cell_type": "code",
   "execution_count": 165,
   "metadata": {},
   "outputs": [
    {
     "data": {
      "text/plain": [
       "dict_keys(['coord', 'weather', 'base', 'main', 'visibility', 'wind', 'clouds', 'dt', 'sys', 'id', 'name', 'cod'])"
      ]
     },
     "execution_count": 165,
     "metadata": {},
     "output_type": "execute_result"
    }
   ],
   "source": [
    "city_weather = response.json()\n",
    "city_weather.keys()"
   ]
  },
  {
   "cell_type": "code",
   "execution_count": 166,
   "metadata": {},
   "outputs": [
    {
     "data": {
      "text/plain": [
       "{'lat': 40.71, 'lon': -74.01}"
      ]
     },
     "execution_count": 166,
     "metadata": {},
     "output_type": "execute_result"
    }
   ],
   "source": [
    "city_weather['coord']"
   ]
  },
  {
   "cell_type": "code",
   "execution_count": 167,
   "metadata": {},
   "outputs": [
    {
     "data": {
      "text/plain": [
       "40.71"
      ]
     },
     "execution_count": 167,
     "metadata": {},
     "output_type": "execute_result"
    }
   ],
   "source": [
    "city_weather['coord']['lat']"
   ]
  },
  {
   "cell_type": "code",
   "execution_count": 168,
   "metadata": {},
   "outputs": [],
   "source": [
    "temp = city_weather['main']['temp']\n",
    "humidity = city_weather['main']['humidity']\n",
    "wind_speed = city_weather['wind']['speed']\n",
    "cloudiness = city_weather['clouds']['all']\n",
    "\n",
    "#print(f'Processing Record 1 of Set 1 | {city}')\n",
    "#print(temp, humidity, wind_speed, cloudiness)"
   ]
  },
  {
   "cell_type": "code",
   "execution_count": 169,
   "metadata": {},
   "outputs": [],
   "source": [
    "#Processing Record 1 of Set 1 | longyearbyen"
   ]
  },
  {
   "cell_type": "code",
   "execution_count": 170,
   "metadata": {},
   "outputs": [
    {
     "name": "stdout",
     "output_type": "stream",
     "text": [
      "Lat: -88.88650904679865, Long: 125.41663831204886\n"
     ]
    }
   ],
   "source": [
    "#lats = np.random.uniform(low=-90.000, high=90.000, size=1500) \n",
    "#lngs = np.random.uniform(low=-180.000, high=180.000, size=1500)\n",
    "\n",
    "one_lat = np.random.uniform(low=-90.000, high=90.000) \n",
    "one_long = np.random.uniform(low=-180.000, high=180.000)\n",
    "\n",
    "print(f'Lat: {one_lat}, Long: {one_long}')"
   ]
  },
  {
   "cell_type": "code",
   "execution_count": 171,
   "metadata": {},
   "outputs": [
    {
     "name": "stdout",
     "output_type": "stream",
     "text": [
      "new norfolk au\n"
     ]
    }
   ],
   "source": [
    "# lat = 20\n",
    "# >>> lon = 75\n",
    "# >>> city = citipy.nearest_city(lat, lon)\n",
    "# >>> print(city)\n",
    "# <citipy.citipy.City object at 0x109724f98>\n",
    "# >>> city.city_name\n",
    "# 'khuldabad'\n",
    "# >>> city.country_code\n",
    "# 'in'\n",
    "\n",
    "one_city = citipy.nearest_city(one_lat, one_long)\n",
    "#print(one_city)\n",
    "city_name = one_city.city_name\n",
    "city_country_code = one_city.country_code\n",
    "\n",
    "print(city_name, city_country_code)\n"
   ]
  },
  {
   "cell_type": "code",
   "execution_count": 172,
   "metadata": {},
   "outputs": [
    {
     "name": "stdout",
     "output_type": "stream",
     "text": [
      "new norfolk,au\n"
     ]
    }
   ],
   "source": [
    "query = city_name + ',' + city_country_code\n",
    "print(query)"
   ]
  },
  {
   "cell_type": "code",
   "execution_count": 173,
   "metadata": {},
   "outputs": [
    {
     "name": "stdout",
     "output_type": "stream",
     "text": [
      "http://api.openweathermap.org/data/2.5/weather?q=new+norfolk%2Cau&units=IMPERIAL&mode=json&APPID=84e9790cfed06e9f791a3c163ba4c987\n"
     ]
    }
   ],
   "source": [
    "base_url = \"http://api.openweathermap.org/data/2.5/weather\"\n",
    "\n",
    "params = {\n",
    "    \"q\": query,\n",
    "    \"units\": \"IMPERIAL\",\n",
    "    \"mode\": \"json\",\n",
    "    \"APPID\": api_key\n",
    "}\n",
    "response = requests.get(base_url, params=params)\n",
    "print(response.url)"
   ]
  },
  {
   "cell_type": "code",
   "execution_count": 174,
   "metadata": {},
   "outputs": [],
   "source": [
    "samples = 5\n",
    "lats = np.random.uniform(low=-90.000, high=90.000, size=samples) \n",
    "lngs = np.random.uniform(low=-180.000, high=180.000, size=samples)\n",
    "\n",
    "lats = list(lats)\n",
    "lngs = list(lngs)\n"
   ]
  },
  {
   "cell_type": "code",
   "execution_count": 175,
   "metadata": {},
   "outputs": [
    {
     "name": "stdout",
     "output_type": "stream",
     "text": [
      "[-38.176734458367264, 1.8025061556928534, -16.35974578053856, 30.062074510846415, -45.55688559324696] [-18.277119736093624, -55.602191146688995, 82.395761937439204, 15.670638212998995, 86.362511267518414]\n"
     ]
    }
   ],
   "source": [
    "print(lats,lngs)"
   ]
  },
  {
   "cell_type": "markdown",
   "metadata": {},
   "source": [
    "#np.delete(arr, 1, 0)\n",
    "\n",
    "np.delete(lats, 1, 0)\n",
    "lats"
   ]
  },
  {
   "cell_type": "code",
   "execution_count": 176,
   "metadata": {},
   "outputs": [
    {
     "data": {
      "text/plain": [
       "[-38.176734458367264,\n",
       " 1.8025061556928534,\n",
       " -16.35974578053856,\n",
       " 30.062074510846415,\n",
       " -45.55688559324696]"
      ]
     },
     "execution_count": 176,
     "metadata": {},
     "output_type": "execute_result"
    }
   ],
   "source": [
    "lats = list(lats)\n",
    "lats"
   ]
  },
  {
   "cell_type": "markdown",
   "metadata": {},
   "source": [
    "del lats[1]\n",
    "lats"
   ]
  },
  {
   "cell_type": "code",
   "execution_count": 177,
   "metadata": {},
   "outputs": [],
   "source": [
    "# Actually don't think i need a dict\n",
    "\n",
    "# coordinates = {\"Latitude\": lats, \"Longitude\": lngs}\n",
    "# coordinates[]"
   ]
  },
  {
   "cell_type": "code",
   "execution_count": 178,
   "metadata": {},
   "outputs": [
    {
     "name": "stdout",
     "output_type": "stream",
     "text": [
      "-38.1767344584\n",
      "[-18.277119736093624, -55.602191146688995, 82.395761937439204, 15.670638212998995, 86.362511267518414]\n",
      "1.80250615569\n",
      "[-18.277119736093624, -55.602191146688995, 82.395761937439204, 15.670638212998995, 86.362511267518414]\n",
      "-16.3597457805\n",
      "[-18.277119736093624, -55.602191146688995, 82.395761937439204, 15.670638212998995, 86.362511267518414]\n",
      "30.0620745108\n",
      "[-18.277119736093624, -55.602191146688995, 82.395761937439204, 15.670638212998995, 86.362511267518414]\n",
      "-45.5568855932\n",
      "[-18.277119736093624, -55.602191146688995, 82.395761937439204, 15.670638212998995, 86.362511267518414]\n"
     ]
    }
   ],
   "source": [
    "for i in lats:\n",
    "    print(i)\n",
    "    print(lngs)\n",
    "#     print(lngs[i])"
   ]
  },
  {
   "cell_type": "code",
   "execution_count": 179,
   "metadata": {},
   "outputs": [
    {
     "name": "stdout",
     "output_type": "stream",
     "text": [
      "-38.1767344584 -18.2771197361\n",
      "Processing Record 1 of Set 1 | jamestown\n",
      "1.80250615569 -55.6021911467\n",
      "Processing Record 2 of Set 1 | grand-santi\n",
      "-16.3597457805 82.3957619374\n",
      "Processing Record 3 of Set 1 | hithadhoo\n",
      "30.0620745108 15.670638213\n",
      "Processing Record 4 of Set 1 | hun\n",
      "-45.5568855932 86.3625112675\n",
      "Processing Record 5 of Set 1 | busselton\n",
      "['11-17-2017', '11-17-2017', '11-17-2017', '11-17-2017', '11-17-2017']\n"
     ]
    }
   ],
   "source": [
    "cities = []\n",
    "countries = []\n",
    "timestamps = []\n",
    "dates = []\n",
    "max_temps = []\n",
    "humidities = []\n",
    "windspeeds = []\n",
    "cloudiness = []\n",
    "\n",
    "j = 0\n",
    "while j < len(lats):\n",
    "    print(lats[j], lngs[j])\n",
    "    \n",
    "    one_city = citipy.nearest_city(lats[j], lngs[j])\n",
    "    city_name = one_city.city_name\n",
    "    city_country_code = one_city.country_code\n",
    "    \n",
    "    print(f'Processing Record {j+1} of Set 1 | {city_name}')\n",
    "\n",
    "    # Build OpenWeatherMap API query\n",
    "    \n",
    "    query = city_name + ',' + city_country_code\n",
    "    base_url = \"http://api.openweathermap.org/data/2.5/weather\"\n",
    "    params = {\n",
    "            \"q\": query,\n",
    "            \"units\": \"IMPERIAL\",\n",
    "            \"mode\": \"json\",\n",
    "            \"APPID\": api_key\n",
    "            }\n",
    "    response = requests.get(base_url, params=params)\n",
    "    city_weather = response.json()\n",
    "    \n",
    "    #print(city_name, city_country_code)\n",
    "\n",
    "    try:\n",
    "#         time = city_weather['dt']\n",
    "        #temp = city_weather['main']['temp']\n",
    "#         humidity = city_weather['main']['humidity']\n",
    "#         wind_speed = city_weather['wind']['speed']\n",
    "#         cloudiness = city_weather['clouds']['all']\n",
    "\n",
    "        timestamps.append(city_weather['dt'])\n",
    "        dates.append(datetime.datetime.fromtimestamp\\\n",
    "                     (int(city_weather['dt'])).strftime('%m-%d-%Y'))\n",
    "#         dates.append(datetime.datetime.fromtimestamp\\\n",
    "#                      (int(city_weather['dt'])).strftime('%Y-%m-%d'))\n",
    "        max_temps.append(city_weather['main']['temp'])\n",
    "        humidities.append(city_weather['main']['humidity'])\n",
    "        windspeeds.append(city_weather['wind']['speed'])\n",
    "        cloudiness.append(city_weather['clouds']['all'])\n",
    "        \n",
    "        cities.append(one_city.city_name)\n",
    "        countries.append(one_city.country_code)\n",
    "        \n",
    "        #print(temp)\n",
    "\n",
    "        \n",
    "#         print(time, temp, humidity, wind_speed, cloudiness)\n",
    "        \n",
    "        j += 1\n",
    "    \n",
    "    except KeyError:\n",
    "        del lats[j]\n",
    "        del lngs[j]\n",
    "        print(\"Oops, that city doesn't exist in OpenWeatherMap.\")\n",
    "        \n",
    "\n",
    "# print(cities)\n",
    "# print(countries)\n",
    "# print(timestamps)\n",
    "print(dates)\n",
    "# print(max_temps)\n",
    "# print(humidities)\n",
    "# print(windspeeds)\n",
    "# print(cloudiness)"
   ]
  },
  {
   "cell_type": "code",
   "execution_count": 180,
   "metadata": {},
   "outputs": [
    {
     "data": {
      "text/html": [
       "<div>\n",
       "<style>\n",
       "    .dataframe thead tr:only-child th {\n",
       "        text-align: right;\n",
       "    }\n",
       "\n",
       "    .dataframe thead th {\n",
       "        text-align: left;\n",
       "    }\n",
       "\n",
       "    .dataframe tbody tr th {\n",
       "        vertical-align: top;\n",
       "    }\n",
       "</style>\n",
       "<table border=\"1\" class=\"dataframe\">\n",
       "  <thead>\n",
       "    <tr style=\"text-align: right;\">\n",
       "      <th></th>\n",
       "      <th>City</th>\n",
       "      <th>Country</th>\n",
       "      <th>Latitude</th>\n",
       "      <th>Longitude</th>\n",
       "      <th>Timestamp</th>\n",
       "      <th>Date</th>\n",
       "      <th>Max Temperature</th>\n",
       "      <th>Humidity</th>\n",
       "      <th>Windspeed</th>\n",
       "      <th>Cloudiness</th>\n",
       "    </tr>\n",
       "  </thead>\n",
       "  <tbody>\n",
       "    <tr>\n",
       "      <th>0</th>\n",
       "      <td>jamestown</td>\n",
       "      <td>sh</td>\n",
       "      <td>-38.176734</td>\n",
       "      <td>-18.277120</td>\n",
       "      <td>1510977369</td>\n",
       "      <td>11-17-2017</td>\n",
       "      <td>67.66</td>\n",
       "      <td>100</td>\n",
       "      <td>16.87</td>\n",
       "      <td>92</td>\n",
       "    </tr>\n",
       "    <tr>\n",
       "      <th>1</th>\n",
       "      <td>grand-santi</td>\n",
       "      <td>gf</td>\n",
       "      <td>1.802506</td>\n",
       "      <td>-55.602191</td>\n",
       "      <td>1510977486</td>\n",
       "      <td>11-17-2017</td>\n",
       "      <td>81.38</td>\n",
       "      <td>67</td>\n",
       "      <td>4.79</td>\n",
       "      <td>0</td>\n",
       "    </tr>\n",
       "    <tr>\n",
       "      <th>2</th>\n",
       "      <td>hithadhoo</td>\n",
       "      <td>mv</td>\n",
       "      <td>-16.359746</td>\n",
       "      <td>82.395762</td>\n",
       "      <td>1510977486</td>\n",
       "      <td>11-17-2017</td>\n",
       "      <td>81.16</td>\n",
       "      <td>100</td>\n",
       "      <td>6.35</td>\n",
       "      <td>36</td>\n",
       "    </tr>\n",
       "    <tr>\n",
       "      <th>3</th>\n",
       "      <td>hun</td>\n",
       "      <td>ly</td>\n",
       "      <td>30.062075</td>\n",
       "      <td>15.670638</td>\n",
       "      <td>1510977487</td>\n",
       "      <td>11-17-2017</td>\n",
       "      <td>33.91</td>\n",
       "      <td>69</td>\n",
       "      <td>3.00</td>\n",
       "      <td>0</td>\n",
       "    </tr>\n",
       "    <tr>\n",
       "      <th>4</th>\n",
       "      <td>busselton</td>\n",
       "      <td>au</td>\n",
       "      <td>-45.556886</td>\n",
       "      <td>86.362511</td>\n",
       "      <td>1510977488</td>\n",
       "      <td>11-17-2017</td>\n",
       "      <td>66.04</td>\n",
       "      <td>100</td>\n",
       "      <td>7.40</td>\n",
       "      <td>20</td>\n",
       "    </tr>\n",
       "  </tbody>\n",
       "</table>\n",
       "</div>"
      ],
      "text/plain": [
       "          City Country   Latitude  Longitude   Timestamp        Date  \\\n",
       "0    jamestown      sh -38.176734 -18.277120  1510977369  11-17-2017   \n",
       "1  grand-santi      gf   1.802506 -55.602191  1510977486  11-17-2017   \n",
       "2    hithadhoo      mv -16.359746  82.395762  1510977486  11-17-2017   \n",
       "3          hun      ly  30.062075  15.670638  1510977487  11-17-2017   \n",
       "4    busselton      au -45.556886  86.362511  1510977488  11-17-2017   \n",
       "\n",
       "   Max Temperature  Humidity  Windspeed  Cloudiness  \n",
       "0            67.66       100      16.87          92  \n",
       "1            81.38        67       4.79           0  \n",
       "2            81.16       100       6.35          36  \n",
       "3            33.91        69       3.00           0  \n",
       "4            66.04       100       7.40          20  "
      ]
     },
     "execution_count": 180,
     "metadata": {},
     "output_type": "execute_result"
    }
   ],
   "source": [
    "# Create and populate summary dataframe\n",
    "\n",
    "summary_df = pd.DataFrame({'City':cities,\n",
    "                           'Country':countries,\n",
    "                           'Latitude':lats,\n",
    "                           'Longitude':lngs,\n",
    "                           'Timestamp':timestamps,\n",
    "                           'Date':dates,\n",
    "                           'Max Temperature':max_temps,\n",
    "                           'Humidity':humidities,\n",
    "                           'Windspeed':windspeeds,\n",
    "                           'Cloudiness':cloudiness\n",
    "                          })\n",
    "\n",
    "# Configure dataframe column order and display\n",
    "summary_df = summary_df[['City',\n",
    "                         'Country',\n",
    "                         'Latitude',\n",
    "                         'Longitude',\n",
    "                         'Timestamp',\n",
    "                         'Date',\n",
    "                         'Max Temperature',\n",
    "                         'Humidity',\n",
    "                         'Windspeed',\n",
    "                         'Cloudiness']]\n",
    "\n",
    "summary_df"
   ]
  },
  {
   "cell_type": "code",
   "execution_count": 181,
   "metadata": {
    "collapsed": true
   },
   "outputs": [],
   "source": [
    "# Save the DataFrame as a csv\n",
    "### summary_df.to_csv(\"OpenWeatherMap-analysis.csv\", encoding=\"utf-8\", index=False)"
   ]
  },
  {
   "cell_type": "markdown",
   "metadata": {},
   "source": [
    "# Latitude vs. Temperature Plot"
   ]
  },
  {
   "cell_type": "code",
   "execution_count": 188,
   "metadata": {},
   "outputs": [
    {
     "data": {
      "image/png": "[encoded data removed]",
      "text/plain": [
       "<matplotlib.figure.Figure at 0x1144856a0>"
      ]
     },
     "metadata": {},
     "output_type": "display_data"
    }
   ],
   "source": [
    "# Create scatterplots\n",
    "\n",
    "plt.scatter(summary_df['Latitude'], \n",
    "            summary_df['Max Temperature'], color='darkblue')\n",
    "\n",
    "# Set textual properties\n",
    "#plt.title(f\"City Latitude vs. Max Temperature ({date[0]})\")\n",
    "plt.title(\"City Latitude vs. Max Temperature (date)\")\n",
    "plt.xlabel(\"Latitude\")\n",
    "plt.ylabel(\"Max Temperature (F)\")\n",
    "plt.grid(True)\n",
    "\n",
    "plt.show()"
   ]
  },
  {
   "cell_type": "markdown",
   "metadata": {},
   "source": [
    "# Latitude vs. Humidity Plot"
   ]
  },
  {
   "cell_type": "code",
   "execution_count": 189,
   "metadata": {},
   "outputs": [
    {
     "data": {
      "image/png": "[encoded data removed]",
      "text/plain": [
       "<matplotlib.figure.Figure at 0x114588358>"
      ]
     },
     "metadata": {},
     "output_type": "display_data"
    }
   ],
   "source": [
    "# Create scatterplots\n",
    "\n",
    "plt.scatter(summary_df['Latitude'], \n",
    "            summary_df['Humidity'], color='darkblue')\n",
    "\n",
    "# Set textual properties\n",
    "\n",
    "plt.title(\"City Latitude vs. Humidity (date)\")\n",
    "plt.xlabel(\"Latitude\")\n",
    "plt.ylabel(\"Humidity (%)\")\n",
    "plt.grid(True)\n",
    "\n",
    "plt.show()"
   ]
  },
  {
   "cell_type": "markdown",
   "metadata": {},
   "source": [
    "# Latitude vs. Cloudiness Plot"
   ]
  },
  {
   "cell_type": "code",
   "execution_count": 190,
   "metadata": {},
   "outputs": [
    {
     "data": {
      "image/png": "[encoded data removed]",
      "text/plain": [
       "<matplotlib.figure.Figure at 0x114684828>"
      ]
     },
     "metadata": {},
     "output_type": "display_data"
    }
   ],
   "source": [
    "# Create scatterplots\n",
    "\n",
    "plt.scatter(summary_df['Latitude'], \n",
    "            summary_df['Cloudiness'], color='darkblue')\n",
    "\n",
    "# Set textual properties\n",
    "\n",
    "plt.title(\"City Latitude vs. Cloudiness (date)\")\n",
    "plt.xlabel(\"Latitude\")\n",
    "plt.ylabel(\"Cloudiness (%)\")\n",
    "plt.grid(True)\n",
    "\n",
    "plt.show()"
   ]
  },
  {
   "cell_type": "markdown",
   "metadata": {},
   "source": [
    "# Latitude vs. Windspeed Plot"
   ]
  },
  {
   "cell_type": "code",
   "execution_count": 191,
   "metadata": {},
   "outputs": [
    {
     "data": {
      "image/png": "[encoded data removed]",
      "text/plain": [
       "<matplotlib.figure.Figure at 0x114796b70>"
      ]
     },
     "metadata": {},
     "output_type": "display_data"
    }
   ],
   "source": [
    "# Create scatterplots\n",
    "\n",
    "plt.scatter(summary_df['Latitude'], \n",
    "            summary_df['Windspeed'], color='darkblue')\n",
    "\n",
    "# Set textual properties\n",
    "\n",
    "plt.title(\"City Latitude vs. Windspeed (date)\")\n",
    "plt.xlabel(\"Latitude\")\n",
    "plt.ylabel(\"Windspeed (mph)\")\n",
    "plt.grid(True)\n",
    "\n",
    "plt.show()"
   ]
  },
  {
   "cell_type": "code",
   "execution_count": null,
   "metadata": {
    "collapsed": true
   },
   "outputs": [],
   "source": []
  },
  {
   "cell_type": "code",
   "execution_count": null,
   "metadata": {
    "collapsed": true
   },
   "outputs": [],
   "source": []
  }
 ],
 "metadata": {
  "kernelspec": {
   "display_name": "Python 3",
   "language": "python",
   "name": "python3"
  },
  "language_info": {
   "codemirror_mode": {
    "name": "ipython",
    "version": 3
   },
   "file_extension": ".py",
   "mimetype": "text/x-python",
   "name": "python",
   "nbconvert_exporter": "python",
   "pygments_lexer": "ipython3",
   "version": "3.6.2"
  }
 },
 "nbformat": 4,
 "nbformat_minor": 2
}
