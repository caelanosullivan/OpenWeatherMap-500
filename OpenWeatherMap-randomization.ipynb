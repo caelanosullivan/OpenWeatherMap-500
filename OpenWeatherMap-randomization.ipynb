{
 "cells": [
  {
   "cell_type": "code",
   "execution_count": 246,
   "metadata": {
    "collapsed": true
   },
   "outputs": [],
   "source": [
    "# Latitude values are measured relative to the equator and range from -90° at the South Pole to +90° at the North Pole. Longitude values are measured relative to the prime meridian. They range from -180° when traveling west to 180° when traveling east. If the prime meridian is at Greenwich, then Australia, which is south of the equator and east of Greenwich, has positive longitude values and negative latitude values.\n",
    "# http://desktop.arcgis.com/en/arcmap/10.3/guide-books/map-projections/about-geographic-coordinate-systems.htm\n",
    "# citipy??\n",
    "\n",
    "# X Name a city, feed to OWM\n",
    "# X Peform weather check\n",
    "# X Understand JSON set up\n",
    "# X Identify Temp, Humid, Cloud, Wind Speed\n",
    "\n",
    "# X Randomly generate 1 lat/long combo within repspective ranges\n",
    "# X Test in CitiPy; get city name\n",
    "# X Feed to OWM\n",
    "# Pull stuff from JSON\n",
    "\n",
    "# Randomly generate 500 lat/longs\n",
    "# Kill dupes\n",
    "# Citipy\n",
    "# Print this!\n",
    "\n",
    "# Feed list to OWM\n",
    "# Loop for info\n",
    "# If 404, lat/longLIST.POP? and CONTINUE\n",
    "# Store\n",
    "\n",
    "# Csv: csvpath = os.path.join(\"04-Pandas\",\"1\",\"Activities\", \"02-Stu_NetflixRemix\", \"Resources\",\"netflix_ratings.csv\")\n",
    "# Save the DataFrame as a csv\n",
    "###*** dataframe.to_csv(\"output_analysis/zip_bank_data.csv\", encoding=\"utf-8\", index=False)\n",
    "\n",
    "# Create graphs\n",
    "# Done\n",
    "\n",
    "#404: http://api.openweathermap.org/data/2.5/weather?q=grand+river+south+east%2Cmu&units=IMPERIAL&mode=json&APPID=84e9790cfed06e9f791a3c163ba4c987"
   ]
  },
  {
   "cell_type": "markdown",
   "metadata": {},
   "source": [
    "#How to work with citipy:\n",
    "\n",
    "lat = 20\n",
    ">>> lon = 75\n",
    ">>> city = citipy.nearest_city(lat, lon)\n",
    ">>> print(city)\n",
    "<citipy.citipy.City object at 0x109724f98>\n",
    ">>> city.city_name\n",
    "'khuldabad'\n",
    ">>> city.country_code\n",
    "'in'\n",
    "\n",
    "Openweather: Please, always use your API keys as &APPID=key\n"
   ]
  },
  {
   "cell_type": "markdown",
   "metadata": {},
   "source": [
    "lats = np.random.uniform(low=-90.000, high=90.000, size=1500)\n",
    "lngs = np.random.uniform(low=-180.000, high=180.000, size=1500)\n",
    "\n",
    "just a heads up, using randomly generated lats/longs can pick points in the ocean. citipy.nearest_city can be used to find cities that can be queried on\n",
    "\n",
    "Processing Record 1 of Set 1 | longyearbyen"
   ]
  },
  {
   "cell_type": "code",
   "execution_count": 247,
   "metadata": {
    "collapsed": true
   },
   "outputs": [],
   "source": [
    "# Import Dependencies\n",
    "import numpy as np\n",
    "import matplotlib.pyplot as plt\n",
    "import pandas as pd\n",
    "import json\n",
    "import requests\n",
    "from citipy import citipy\n",
    "from config import api_key"
   ]
  },
  {
   "cell_type": "markdown",
   "metadata": {},
   "source": [
    "#api.openweathermap.org/data/2.5/weather?q=London,uk\n",
    "\n",
    "target_url = \"http://api.openweathermap.org/data/2.5/weather\" \\\n",
    "    \"?q=Phoenix,us&units=IMPERIAL&mode=json&APPID=\" + api_key\n",
    "    \n",
    "#api.openweathermap.org/data/2.5/weather?q=London,uk"
   ]
  },
  {
   "cell_type": "code",
   "execution_count": 248,
   "metadata": {
    "collapsed": true
   },
   "outputs": [],
   "source": [
    "base_url = \"http://api.openweathermap.org/data/2.5/weather\"\n",
    "\n",
    "params = {\n",
    "    \"q\": \"New York,US\",\n",
    "    \"units\": \"IMPERIAL\",\n",
    "    \"mode\": \"json\",\n",
    "    \"APPID\": api_key\n",
    "}"
   ]
  },
  {
   "cell_type": "code",
   "execution_count": 249,
   "metadata": {
    "scrolled": true
   },
   "outputs": [
    {
     "name": "stdout",
     "output_type": "stream",
     "text": [
      "http://api.openweathermap.org/data/2.5/weather?q=New+York%2CUS&units=IMPERIAL&mode=json&APPID=84e9790cfed06e9f791a3c163ba4c987\n"
     ]
    }
   ],
   "source": [
    "response = requests.get(base_url, params=params)\n",
    "print(response.url)"
   ]
  },
  {
   "cell_type": "code",
   "execution_count": 250,
   "metadata": {},
   "outputs": [
    {
     "data": {
      "text/plain": [
       "dict_keys(['coord', 'weather', 'base', 'main', 'visibility', 'wind', 'clouds', 'dt', 'sys', 'id', 'name', 'cod'])"
      ]
     },
     "execution_count": 250,
     "metadata": {},
     "output_type": "execute_result"
    }
   ],
   "source": [
    "city_weather = response.json()\n",
    "city_weather.keys()"
   ]
  },
  {
   "cell_type": "code",
   "execution_count": 251,
   "metadata": {},
   "outputs": [
    {
     "data": {
      "text/plain": [
       "{'lat': 40.71, 'lon': -74.01}"
      ]
     },
     "execution_count": 251,
     "metadata": {},
     "output_type": "execute_result"
    }
   ],
   "source": [
    "city_weather['coord']"
   ]
  },
  {
   "cell_type": "code",
   "execution_count": 252,
   "metadata": {},
   "outputs": [
    {
     "data": {
      "text/plain": [
       "40.71"
      ]
     },
     "execution_count": 252,
     "metadata": {},
     "output_type": "execute_result"
    }
   ],
   "source": [
    "city_weather['coord']['lat']"
   ]
  },
  {
   "cell_type": "code",
   "execution_count": 253,
   "metadata": {},
   "outputs": [],
   "source": [
    "temp = city_weather['main']['temp']\n",
    "humidity = city_weather['main']['humidity']\n",
    "wind_speed = city_weather['wind']['speed']\n",
    "cloudiness = city_weather['clouds']['all']\n",
    "\n",
    "#print(f'Processing Record 1 of Set 1 | {city}')\n",
    "#print(temp, humidity, wind_speed, cloudiness)"
   ]
  },
  {
   "cell_type": "code",
   "execution_count": 254,
   "metadata": {},
   "outputs": [],
   "source": [
    "#Processing Record 1 of Set 1 | longyearbyen"
   ]
  },
  {
   "cell_type": "code",
   "execution_count": 255,
   "metadata": {},
   "outputs": [
    {
     "name": "stdout",
     "output_type": "stream",
     "text": [
      "Lat: -47.601041923496666, Long: -92.32434668449983\n"
     ]
    }
   ],
   "source": [
    "#lats = np.random.uniform(low=-90.000, high=90.000, size=1500) \n",
    "#lngs = np.random.uniform(low=-180.000, high=180.000, size=1500)\n",
    "\n",
    "one_lat = np.random.uniform(low=-90.000, high=90.000) \n",
    "one_long = np.random.uniform(low=-180.000, high=180.000)\n",
    "\n",
    "print(f'Lat: {one_lat}, Long: {one_long}')"
   ]
  },
  {
   "cell_type": "code",
   "execution_count": 256,
   "metadata": {},
   "outputs": [
    {
     "name": "stdout",
     "output_type": "stream",
     "text": [
      "castro cl\n"
     ]
    }
   ],
   "source": [
    "# lat = 20\n",
    "# >>> lon = 75\n",
    "# >>> city = citipy.nearest_city(lat, lon)\n",
    "# >>> print(city)\n",
    "# <citipy.citipy.City object at 0x109724f98>\n",
    "# >>> city.city_name\n",
    "# 'khuldabad'\n",
    "# >>> city.country_code\n",
    "# 'in'\n",
    "\n",
    "one_city = citipy.nearest_city(one_lat, one_long)\n",
    "#print(one_city)\n",
    "city_name = one_city.city_name\n",
    "city_country_code = one_city.country_code\n",
    "\n",
    "print(city_name, city_country_code)\n"
   ]
  },
  {
   "cell_type": "code",
   "execution_count": 257,
   "metadata": {},
   "outputs": [
    {
     "name": "stdout",
     "output_type": "stream",
     "text": [
      "castro,cl\n"
     ]
    }
   ],
   "source": [
    "query = city_name + ',' + city_country_code\n",
    "print(query)"
   ]
  },
  {
   "cell_type": "code",
   "execution_count": 258,
   "metadata": {},
   "outputs": [
    {
     "name": "stdout",
     "output_type": "stream",
     "text": [
      "http://api.openweathermap.org/data/2.5/weather?q=castro%2Ccl&units=IMPERIAL&mode=json&APPID=84e9790cfed06e9f791a3c163ba4c987\n"
     ]
    }
   ],
   "source": [
    "base_url = \"http://api.openweathermap.org/data/2.5/weather\"\n",
    "\n",
    "params = {\n",
    "    \"q\": query,\n",
    "    \"units\": \"IMPERIAL\",\n",
    "    \"mode\": \"json\",\n",
    "    \"APPID\": api_key\n",
    "}\n",
    "response = requests.get(base_url, params=params)\n",
    "print(response.url)"
   ]
  },
  {
   "cell_type": "code",
   "execution_count": 259,
   "metadata": {},
   "outputs": [],
   "source": [
    "samples = 5\n",
    "lats = np.random.uniform(low=-90.000, high=90.000, size=samples) \n",
    "lngs = np.random.uniform(low=-180.000, high=180.000, size=samples)\n",
    "\n",
    "lats = list(lats)\n",
    "lngs = list(lngs)\n"
   ]
  },
  {
   "cell_type": "code",
   "execution_count": 260,
   "metadata": {},
   "outputs": [
    {
     "name": "stdout",
     "output_type": "stream",
     "text": [
      "[-13.758012719424599, -20.907409058671774, 6.3801845502025856, -12.740324870152605, -23.799858085184624] [-125.39890177611223, 77.915459793612854, 95.684779853506257, -163.945912020066, -43.595496579068765]\n"
     ]
    }
   ],
   "source": [
    "print(lats,lngs)"
   ]
  },
  {
   "cell_type": "markdown",
   "metadata": {},
   "source": [
    "#np.delete(arr, 1, 0)\n",
    "\n",
    "np.delete(lats, 1, 0)\n",
    "lats"
   ]
  },
  {
   "cell_type": "code",
   "execution_count": 261,
   "metadata": {},
   "outputs": [
    {
     "data": {
      "text/plain": [
       "[-13.758012719424599,\n",
       " -20.907409058671774,\n",
       " 6.3801845502025856,\n",
       " -12.740324870152605,\n",
       " -23.799858085184624]"
      ]
     },
     "execution_count": 261,
     "metadata": {},
     "output_type": "execute_result"
    }
   ],
   "source": [
    "lats = list(lats)\n",
    "lats"
   ]
  },
  {
   "cell_type": "markdown",
   "metadata": {},
   "source": [
    "del lats[1]\n",
    "lats"
   ]
  },
  {
   "cell_type": "code",
   "execution_count": 262,
   "metadata": {},
   "outputs": [],
   "source": [
    "# Actually don't think i need a dict\n",
    "\n",
    "# coordinates = {\"Latitude\": lats, \"Longitude\": lngs}\n",
    "# coordinates[]"
   ]
  },
  {
   "cell_type": "code",
   "execution_count": 263,
   "metadata": {},
   "outputs": [
    {
     "name": "stdout",
     "output_type": "stream",
     "text": [
      "-13.7580127194\n",
      "[-125.39890177611223, 77.915459793612854, 95.684779853506257, -163.945912020066, -43.595496579068765]\n",
      "-20.9074090587\n",
      "[-125.39890177611223, 77.915459793612854, 95.684779853506257, -163.945912020066, -43.595496579068765]\n",
      "6.3801845502\n",
      "[-125.39890177611223, 77.915459793612854, 95.684779853506257, -163.945912020066, -43.595496579068765]\n",
      "-12.7403248702\n",
      "[-125.39890177611223, 77.915459793612854, 95.684779853506257, -163.945912020066, -43.595496579068765]\n",
      "-23.7998580852\n",
      "[-125.39890177611223, 77.915459793612854, 95.684779853506257, -163.945912020066, -43.595496579068765]\n"
     ]
    }
   ],
   "source": [
    "for i in lats:\n",
    "    print(i)\n",
    "    print(lngs)\n",
    "#     print(lngs[i])"
   ]
  },
  {
   "cell_type": "code",
   "execution_count": 264,
   "metadata": {},
   "outputs": [
    {
     "name": "stdout",
     "output_type": "stream",
     "text": [
      "-13.7580127194 -125.398901776\n",
      "Processing Record 1 of Set 1 | rikitea\n",
      "rikitea pf\n",
      "1510970345 72.79 100 22.73 64\n",
      "-20.9074090587 77.9154597936\n",
      "Processing Record 2 of Set 1 | grand river south east\n",
      "grand river south east mu\n",
      "Oops, that city doesn't exist in OpenWeatherMap.\n",
      "6.3801845502 95.6847798535\n",
      "Processing Record 2 of Set 1 | sabang\n",
      "sabang id\n",
      "1510970624 80.44 100 4.27 64\n",
      "-12.7403248702 -163.94591202\n",
      "Processing Record 3 of Set 1 | samusu\n",
      "samusu ws\n",
      "Oops, that city doesn't exist in OpenWeatherMap.\n",
      "-23.7998580852 -43.5954965791\n",
      "Processing Record 3 of Set 1 | itaguai\n",
      "itaguai br\n",
      "1510966800 75.2 83 12.75 75\n"
     ]
    },
    {
     "data": {
      "text/plain": [
       "[72.79, 80.44, 75.2]"
      ]
     },
     "execution_count": 264,
     "metadata": {},
     "output_type": "execute_result"
    }
   ],
   "source": [
    "cities = []\n",
    "countries = []\n",
    "timestamps = []\n",
    "max_temps = []\n",
    "humidities = []\n",
    "windspeeds = []\n",
    "cloudiness = []\n",
    "\n",
    "j = 0\n",
    "while j < len(lats):\n",
    "    print(lats[j], lngs[j])\n",
    "    \n",
    "    one_city = citipy.nearest_city(lats[j], lngs[j])\n",
    "    city_name = one_city.city_name\n",
    "    city_country_code = one_city.country_code\n",
    "    \n",
    "    print(f'Processing Record {j+1} of Set 1 | {city_name}')\n",
    "\n",
    "    # Build OpenWeatherMap API query\n",
    "    \n",
    "    query = city_name + ',' + city_country_code\n",
    "    base_url = \"http://api.openweathermap.org/data/2.5/weather\"\n",
    "    params = {\n",
    "            \"q\": query,\n",
    "            \"units\": \"IMPERIAL\",\n",
    "            \"mode\": \"json\",\n",
    "            \"APPID\": api_key\n",
    "            }\n",
    "    response = requests.get(base_url, params=params)\n",
    "    city_weather = response.json()\n",
    "    \n",
    "    print(city_name, city_country_code)\n",
    "\n",
    "    try:\n",
    "        time = city_weather['dt']\n",
    "        temp = city_weather['main']['temp']\n",
    "        humidity = city_weather['main']['humidity']\n",
    "        wind_speed = city_weather['wind']['speed']\n",
    "        cloudiness = city_weather['clouds']['all']\n",
    "\n",
    "        max_temps.append(city_weather['main']['temp'])\n",
    "\n",
    "        print(time, temp, humidity, wind_speed, cloudiness)\n",
    "        \n",
    "        j += 1\n",
    "    \n",
    "    except KeyError:\n",
    "        del lats[j]\n",
    "        del lngs[j]\n",
    "        print(\"Oops, that city doesn't exist in OpenWeatherMap.\")\n",
    "        \n",
    "\n",
    "lats\n",
    "max_temps"
   ]
  },
  {
   "cell_type": "code",
   "execution_count": null,
   "metadata": {
    "collapsed": true
   },
   "outputs": [],
   "source": []
  },
  {
   "cell_type": "code",
   "execution_count": null,
   "metadata": {
    "collapsed": true
   },
   "outputs": [],
   "source": []
  },
  {
   "cell_type": "code",
   "execution_count": null,
   "metadata": {
    "collapsed": true
   },
   "outputs": [],
   "source": []
  }
 ],
 "metadata": {
  "kernelspec": {
   "display_name": "Python 3",
   "language": "python",
   "name": "python3"
  },
  "language_info": {
   "codemirror_mode": {
    "name": "ipython",
    "version": 3
   },
   "file_extension": ".py",
   "mimetype": "text/x-python",
   "name": "python",
   "nbconvert_exporter": "python",
   "pygments_lexer": "ipython3",
   "version": "3.6.2"
  }
 },
 "nbformat": 4,
 "nbformat_minor": 2
}
