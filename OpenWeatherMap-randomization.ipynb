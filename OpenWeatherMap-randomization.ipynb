{
 "cells": [
  {
   "cell_type": "code",
   "execution_count": 85,
   "metadata": {
    "collapsed": true
   },
   "outputs": [],
   "source": [
    "# Latitude values are measured relative to the equator and range from -90° at the South Pole to +90° at the North Pole. Longitude values are measured relative to the prime meridian. They range from -180° when traveling west to 180° when traveling east. If the prime meridian is at Greenwich, then Australia, which is south of the equator and east of Greenwich, has positive longitude values and negative latitude values.\n",
    "# http://desktop.arcgis.com/en/arcmap/10.3/guide-books/map-projections/about-geographic-coordinate-systems.htm\n",
    "# citipy??\n",
    "\n",
    "# X Name a city, feed to OWM\n",
    "# X Peform weather check\n",
    "# X Understand JSON set up\n",
    "# X Identify Temp, Humid, Cloud, Wind Speed\n",
    "\n",
    "# X Randomly generate 1 lat/long combo within repspective ranges\n",
    "# X Test in CitiPy; get city name\n",
    "# X Feed to OWM\n",
    "# Pull stuff from JSON\n",
    "\n",
    "# Randomly generate 500 lat/longs\n",
    "# Kill dupes\n",
    "# Citipy\n",
    "# Print this!\n",
    "\n",
    "# Feed list to OWM\n",
    "# Loop for info\n",
    "# Store\n",
    "\n",
    "# Create graphs\n",
    "# Done"
   ]
  },
  {
   "cell_type": "markdown",
   "metadata": {},
   "source": [
    "#How to work with citipy:\n",
    "\n",
    "lat = 20\n",
    ">>> lon = 75\n",
    ">>> city = citipy.nearest_city(lat, lon)\n",
    ">>> print(city)\n",
    "<citipy.citipy.City object at 0x109724f98>\n",
    ">>> city.city_name\n",
    "'khuldabad'\n",
    ">>> city.country_code\n",
    "'in'\n",
    "\n",
    "Openweather: Please, always use your API keys as &APPID=key\n"
   ]
  },
  {
   "cell_type": "markdown",
   "metadata": {},
   "source": [
    "lats = np.random.uniform(low=-90.000, high=90.000, size=1500)\n",
    "lngs = np.random.uniform(low=-180.000, high=180.000, size=1500)\n",
    "\n",
    "just a heads up, using randomly generated lats/longs can pick points in the ocean. citipy.nearest_city can be used to find cities that can be queried on\n",
    "\n",
    "Processing Record 1 of Set 1 | longyearbyen"
   ]
  },
  {
   "cell_type": "code",
   "execution_count": 86,
   "metadata": {
    "collapsed": true
   },
   "outputs": [],
   "source": [
    "# Import Dependencies\n",
    "import numpy as np\n",
    "import matplotlib.pyplot as plt\n",
    "import pandas as pd\n",
    "import json\n",
    "import requests\n",
    "from citipy import citipy\n",
    "from config import api_key"
   ]
  },
  {
   "cell_type": "markdown",
   "metadata": {},
   "source": [
    "#api.openweathermap.org/data/2.5/weather?q=London,uk\n",
    "\n",
    "target_url = \"http://api.openweathermap.org/data/2.5/weather\" \\\n",
    "    \"?q=Phoenix,us&units=IMPERIAL&mode=json&APPID=\" + api_key\n",
    "    \n",
    "#api.openweathermap.org/data/2.5/weather?q=London,uk"
   ]
  },
  {
   "cell_type": "code",
   "execution_count": 87,
   "metadata": {
    "collapsed": true
   },
   "outputs": [],
   "source": [
    "base_url = \"http://api.openweathermap.org/data/2.5/weather\"\n",
    "\n",
    "params = {\n",
    "    \"q\": \"New York,US\",\n",
    "    \"units\": \"IMPERIAL\",\n",
    "    \"mode\": \"json\",\n",
    "    \"APPID\": api_key\n",
    "}"
   ]
  },
  {
   "cell_type": "code",
   "execution_count": 88,
   "metadata": {
    "scrolled": true
   },
   "outputs": [
    {
     "name": "stdout",
     "output_type": "stream",
     "text": [
      "http://api.openweathermap.org/data/2.5/weather?q=New+York%2CUS&units=IMPERIAL&mode=json&APPID=84e9790cfed06e9f791a3c163ba4c987\n"
     ]
    }
   ],
   "source": [
    "response = requests.get(base_url, params=params)\n",
    "print(response.url)"
   ]
  },
  {
   "cell_type": "code",
   "execution_count": 89,
   "metadata": {},
   "outputs": [
    {
     "data": {
      "text/plain": [
       "dict_keys(['coord', 'weather', 'base', 'main', 'visibility', 'wind', 'clouds', 'dt', 'sys', 'id', 'name', 'cod'])"
      ]
     },
     "execution_count": 89,
     "metadata": {},
     "output_type": "execute_result"
    }
   ],
   "source": [
    "city_weather = response.json()\n",
    "city_weather.keys()"
   ]
  },
  {
   "cell_type": "code",
   "execution_count": 90,
   "metadata": {},
   "outputs": [
    {
     "data": {
      "text/plain": [
       "{'lat': 40.71, 'lon': -74.01}"
      ]
     },
     "execution_count": 90,
     "metadata": {},
     "output_type": "execute_result"
    }
   ],
   "source": [
    "city_weather['coord']"
   ]
  },
  {
   "cell_type": "code",
   "execution_count": 91,
   "metadata": {},
   "outputs": [
    {
     "data": {
      "text/plain": [
       "40.71"
      ]
     },
     "execution_count": 91,
     "metadata": {},
     "output_type": "execute_result"
    }
   ],
   "source": [
    "city_weather['coord']['lat']"
   ]
  },
  {
   "cell_type": "code",
   "execution_count": 92,
   "metadata": {},
   "outputs": [],
   "source": [
    "temp = city_weather['main']['temp']\n",
    "humidity = city_weather['main']['humidity']\n",
    "wind_speed = city_weather['wind']['speed']\n",
    "cloudiness = city_weather['clouds']['all']\n",
    "\n",
    "#print(f'Processing Record 1 of Set 1 | {city}')\n",
    "#print(temp, humidity, wind_speed, cloudiness)"
   ]
  },
  {
   "cell_type": "code",
   "execution_count": 93,
   "metadata": {},
   "outputs": [],
   "source": [
    "#Processing Record 1 of Set 1 | longyearbyen"
   ]
  },
  {
   "cell_type": "code",
   "execution_count": 94,
   "metadata": {},
   "outputs": [
    {
     "name": "stdout",
     "output_type": "stream",
     "text": [
      "Lat: 22.441247278391117, Long: 113.43125303305857\n"
     ]
    }
   ],
   "source": [
    "#lats = np.random.uniform(low=-90.000, high=90.000, size=1500) \n",
    "#lngs = np.random.uniform(low=-180.000, high=180.000, size=1500)\n",
    "\n",
    "one_lat = np.random.uniform(low=-90.000, high=90.000) \n",
    "one_long = np.random.uniform(low=-180.000, high=180.000)\n",
    "\n",
    "print(f'Lat: {one_lat}, Long: {one_long}')"
   ]
  },
  {
   "cell_type": "code",
   "execution_count": 95,
   "metadata": {},
   "outputs": [
    {
     "name": "stdout",
     "output_type": "stream",
     "text": [
      "zhongshan cn\n"
     ]
    }
   ],
   "source": [
    "# lat = 20\n",
    "# >>> lon = 75\n",
    "# >>> city = citipy.nearest_city(lat, lon)\n",
    "# >>> print(city)\n",
    "# <citipy.citipy.City object at 0x109724f98>\n",
    "# >>> city.city_name\n",
    "# 'khuldabad'\n",
    "# >>> city.country_code\n",
    "# 'in'\n",
    "\n",
    "one_city = citipy.nearest_city(one_lat, one_long)\n",
    "#print(one_city)\n",
    "city_name = one_city.city_name\n",
    "city_country_code = one_city.country_code\n",
    "\n",
    "print(city_name, city_country_code)\n"
   ]
  },
  {
   "cell_type": "code",
   "execution_count": 96,
   "metadata": {},
   "outputs": [
    {
     "name": "stdout",
     "output_type": "stream",
     "text": [
      "zhongshan,cn\n"
     ]
    }
   ],
   "source": [
    "query = city_name + ',' + city_country_code\n",
    "print(query)"
   ]
  },
  {
   "cell_type": "code",
   "execution_count": 97,
   "metadata": {},
   "outputs": [
    {
     "name": "stdout",
     "output_type": "stream",
     "text": [
      "http://api.openweathermap.org/data/2.5/weather?q=zhongshan%2Ccn&units=IMPERIAL&mode=json&APPID=84e9790cfed06e9f791a3c163ba4c987\n"
     ]
    }
   ],
   "source": [
    "base_url = \"http://api.openweathermap.org/data/2.5/weather\"\n",
    "\n",
    "params = {\n",
    "    \"q\": query,\n",
    "    \"units\": \"IMPERIAL\",\n",
    "    \"mode\": \"json\",\n",
    "    \"APPID\": api_key\n",
    "}\n",
    "response = requests.get(base_url, params=params)\n",
    "print(response.url)"
   ]
  },
  {
   "cell_type": "code",
   "execution_count": null,
   "metadata": {
    "collapsed": true
   },
   "outputs": [],
   "source": []
  },
  {
   "cell_type": "code",
   "execution_count": null,
   "metadata": {
    "collapsed": true
   },
   "outputs": [],
   "source": []
  }
 ],
 "metadata": {
  "kernelspec": {
   "display_name": "Python 3",
   "language": "python",
   "name": "python3"
  },
  "language_info": {
   "codemirror_mode": {
    "name": "ipython",
    "version": 3
   },
   "file_extension": ".py",
   "mimetype": "text/x-python",
   "name": "python",
   "nbconvert_exporter": "python",
   "pygments_lexer": "ipython3",
   "version": "3.6.2"
  }
 },
 "nbformat": 4,
 "nbformat_minor": 2
}
