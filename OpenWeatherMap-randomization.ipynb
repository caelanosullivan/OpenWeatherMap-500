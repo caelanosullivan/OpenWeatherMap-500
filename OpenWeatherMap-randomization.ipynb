{
 "cells": [
  {
   "cell_type": "code",
   "execution_count": null,
   "metadata": {
    "collapsed": true
   },
   "outputs": [],
   "source": [
    "# Latitude values are measured relative to the equator and range from -90° at the South Pole to +90° at the North Pole. Longitude values are measured relative to the prime meridian. They range from -180° when traveling west to 180° when traveling east. If the prime meridian is at Greenwich, then Australia, which is south of the equator and east of Greenwich, has positive longitude values and negative latitude values.\n",
    "# http://desktop.arcgis.com/en/arcmap/10.3/guide-books/map-projections/about-geographic-coordinate-systems.htm\n",
    "# citipy??\n",
    "\n",
    "# Name a city, feed to OWM\n",
    "# Peform weather check\n",
    "# Understand JSON set up\n",
    "# Identify Temp, Humid, Cloud, Wind Speed\n",
    "\n",
    "# Randomly generate 1 lat/long combo within repspective ranges\n",
    "# Test in Google API; get city name\n",
    "# Feed to OWM\n",
    "# Pull stuff from JSON\n",
    "\n",
    "# Randomly generate 500 lat/longs\n",
    "# Google API to report city names\n",
    "# Print this!\n",
    "\n",
    "# Feed list to OWM\n",
    "# Loop for info\n",
    "# Store\n",
    "\n",
    "# Create graphs\n",
    "# Done"
   ]
  },
  {
   "cell_type": "markdown",
   "metadata": {},
   "source": [
    "#How to work with citipy:\n",
    "\n",
    "lat = 20\n",
    ">>> lon = 75\n",
    ">>> city = citipy.nearest_city(lat, lon)\n",
    ">>> print(city)\n",
    "<citipy.citipy.City object at 0x109724f98>\n",
    ">>> city.city_name\n",
    "'khuldabad'\n",
    ">>> city.country_code\n",
    "'in'\n",
    "\n",
    "Openweather: Please, always use your API keys as &APPID=key\n"
   ]
  },
  {
   "cell_type": "markdown",
   "metadata": {},
   "source": [
    "lats = np.random.uniform(low=-90.000, high=90.000, size=1500)\n",
    "lngs = np.random.uniform(low=-180.000, high=180.000, size=1500)\n",
    "\n",
    "just a heads up, using randomly generated lats/longs can pick points in the ocean. citipy.nearest_city can be used to find cities that can be queried on\n",
    "\n",
    "Processing Record 1 of Set 1 | longyearbyen"
   ]
  },
  {
   "cell_type": "code",
   "execution_count": 3,
   "metadata": {
    "collapsed": true
   },
   "outputs": [],
   "source": [
    "# Import Dependencies\n",
    "import numpy as np\n",
    "import matplotlib.pyplot as plt\n",
    "import pandas as pd\n",
    "import json\n",
    "import requests\n",
    "import citipy\n",
    "from config import api_key"
   ]
  },
  {
   "cell_type": "code",
   "execution_count": 10,
   "metadata": {},
   "outputs": [],
   "source": [
    "#api.openweathermap.org/data/2.5/weather?q=London,uk\n",
    "\n",
    "target_url = \"http://api.openweathermap.org/data/2.5/weather\" \\\n",
    "    \"?q=Phoenix,us&units=IMPERIAL&mode=json&APPID=\" + api_key\n",
    "    \n",
    "#api.openweathermap.org/data/2.5/weather?q=London,uk"
   ]
  },
  {
   "cell_type": "code",
   "execution_count": 11,
   "metadata": {
    "collapsed": true
   },
   "outputs": [],
   "source": [
    "base_url = \"http://api.openweathermap.org/data/2.5/weather\"\n",
    "\n",
    "params = {\n",
    "    \"q\": \"Phoenix,US\",\n",
    "    \"units\": \"IMPERIAL\",\n",
    "    \"mode\": \"json\",\n",
    "    \"APPID\": api_key\n",
    "}"
   ]
  },
  {
   "cell_type": "code",
   "execution_count": 12,
   "metadata": {},
   "outputs": [
    {
     "name": "stdout",
     "output_type": "stream",
     "text": [
      "http://api.openweathermap.org/data/2.5/weather?q=Phoenix%2CUS&units=IMPERIAL&mode=json&APPID=84e9790cfed06e9f791a3c163ba4c987\n"
     ]
    }
   ],
   "source": [
    "response = requests.get(base_url, params=params)\n",
    "print(response.url)"
   ]
  },
  {
   "cell_type": "code",
   "execution_count": null,
   "metadata": {
    "collapsed": true
   },
   "outputs": [],
   "source": []
  }
 ],
 "metadata": {
  "kernelspec": {
   "display_name": "Python 3",
   "language": "python",
   "name": "python3"
  },
  "language_info": {
   "codemirror_mode": {
    "name": "ipython",
    "version": 3
   },
   "file_extension": ".py",
   "mimetype": "text/x-python",
   "name": "python",
   "nbconvert_exporter": "python",
   "pygments_lexer": "ipython3",
   "version": "3.6.2"
  }
 },
 "nbformat": 4,
 "nbformat_minor": 2
}
