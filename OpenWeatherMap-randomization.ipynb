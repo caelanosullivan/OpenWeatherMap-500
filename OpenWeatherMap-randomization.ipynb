{
 "cells": [
  {
   "cell_type": "code",
   "execution_count": 61,
   "metadata": {
    "collapsed": true
   },
   "outputs": [],
   "source": [
    "# Latitude values are measured relative to the equator and range from -90° at the South Pole to +90° at the North Pole. Longitude values are measured relative to the prime meridian. They range from -180° when traveling west to 180° when traveling east. If the prime meridian is at Greenwich, then Australia, which is south of the equator and east of Greenwich, has positive longitude values and negative latitude values.\n",
    "# http://desktop.arcgis.com/en/arcmap/10.3/guide-books/map-projections/about-geographic-coordinate-systems.htm\n",
    "# citipy??\n",
    "\n",
    "# X Name a city, feed to OWM\n",
    "# X Peform weather check\n",
    "# X Understand JSON set up\n",
    "# X Identify Temp, Humid, Cloud, Wind Speed\n",
    "\n",
    "# X Randomly generate 1 lat/long combo within repspective ranges\n",
    "# X Test in CitiPy; get city name\n",
    "# X Feed to OWM\n",
    "# Pull stuff from JSON\n",
    "\n",
    "# X ok - Randomly generate 500 lat/longs\n",
    "# Kill dupes\n",
    "# X Citipy\n",
    "# Print this!\n",
    "\n",
    "# X Feed list to OWM\n",
    "# X Loop for info\n",
    "# X If 404, lat/longLIST.POP? and CONTINUE\n",
    "# X Store\n",
    "\n",
    "# Csv: csvpath = os.path.join(\"04-Pandas\",\"1\",\"Activities\", \"02-Stu_NetflixRemix\", \"Resources\",\"netflix_ratings.csv\")\n",
    "# Save the DataFrame as a csv\n",
    "###*** dataframe.to_csv(\"output_analysis/zip_bank_data.csv\", encoding=\"utf-8\", index=False)\n",
    "\n",
    "# Create graphs\n",
    "# Done\n",
    "\n",
    "#404: http://api.openweathermap.org/data/2.5/weather?q=grand+river+south+east%2Cmu&units=IMPERIAL&mode=json&APPID=84e9790cfed06e9f791a3c163ba4c987"
   ]
  },
  {
   "cell_type": "markdown",
   "metadata": {},
   "source": [
    "#How to work with citipy:\n",
    "\n",
    "lat = 20\n",
    ">>> lon = 75\n",
    ">>> city = citipy.nearest_city(lat, lon)\n",
    ">>> print(city)\n",
    "<citipy.citipy.City object at 0x109724f98>\n",
    ">>> city.city_name\n",
    "'khuldabad'\n",
    ">>> city.country_code\n",
    "'in'\n",
    "\n",
    "Openweather: Please, always use your API keys as &APPID=key\n"
   ]
  },
  {
   "cell_type": "markdown",
   "metadata": {},
   "source": [
    "lats = np.random.uniform(low=-90.000, high=90.000, size=1500)\n",
    "lngs = np.random.uniform(low=-180.000, high=180.000, size=1500)\n",
    "\n",
    "just a heads up, using randomly generated lats/longs can pick points in the ocean. citipy.nearest_city can be used to find cities that can be queried on\n",
    "\n",
    "Processing Record 1 of Set 1 | longyearbyen"
   ]
  },
  {
   "cell_type": "code",
   "execution_count": 62,
   "metadata": {
    "collapsed": true
   },
   "outputs": [],
   "source": [
    "# Import Dependencies\n",
    "import numpy as np\n",
    "import matplotlib.pyplot as plt\n",
    "import pandas as pd\n",
    "import json\n",
    "import requests\n",
    "from citipy import citipy\n",
    "from config import api_key"
   ]
  },
  {
   "cell_type": "markdown",
   "metadata": {},
   "source": [
    "#api.openweathermap.org/data/2.5/weather?q=London,uk\n",
    "\n",
    "target_url = \"http://api.openweathermap.org/data/2.5/weather\" \\\n",
    "    \"?q=Phoenix,us&units=IMPERIAL&mode=json&APPID=\" + api_key\n",
    "    \n",
    "#api.openweathermap.org/data/2.5/weather?q=London,uk"
   ]
  },
  {
   "cell_type": "code",
   "execution_count": 63,
   "metadata": {
    "collapsed": true
   },
   "outputs": [],
   "source": [
    "base_url = \"http://api.openweathermap.org/data/2.5/weather\"\n",
    "\n",
    "params = {\n",
    "    \"q\": \"New York,US\",\n",
    "    \"units\": \"IMPERIAL\",\n",
    "    \"mode\": \"json\",\n",
    "    \"APPID\": api_key\n",
    "}"
   ]
  },
  {
   "cell_type": "code",
   "execution_count": 64,
   "metadata": {
    "scrolled": true
   },
   "outputs": [
    {
     "name": "stdout",
     "output_type": "stream",
     "text": [
      "http://api.openweathermap.org/data/2.5/weather?q=New+York%2CUS&units=IMPERIAL&mode=json&APPID=84e9790cfed06e9f791a3c163ba4c987\n"
     ]
    }
   ],
   "source": [
    "response = requests.get(base_url, params=params)\n",
    "print(response.url)"
   ]
  },
  {
   "cell_type": "code",
   "execution_count": 65,
   "metadata": {},
   "outputs": [
    {
     "data": {
      "text/plain": [
       "dict_keys(['coord', 'weather', 'base', 'main', 'visibility', 'wind', 'clouds', 'dt', 'sys', 'id', 'name', 'cod'])"
      ]
     },
     "execution_count": 65,
     "metadata": {},
     "output_type": "execute_result"
    }
   ],
   "source": [
    "city_weather = response.json()\n",
    "city_weather.keys()"
   ]
  },
  {
   "cell_type": "code",
   "execution_count": 66,
   "metadata": {},
   "outputs": [
    {
     "data": {
      "text/plain": [
       "{'lat': 40.71, 'lon': -74.01}"
      ]
     },
     "execution_count": 66,
     "metadata": {},
     "output_type": "execute_result"
    }
   ],
   "source": [
    "city_weather['coord']"
   ]
  },
  {
   "cell_type": "code",
   "execution_count": 67,
   "metadata": {},
   "outputs": [
    {
     "data": {
      "text/plain": [
       "40.71"
      ]
     },
     "execution_count": 67,
     "metadata": {},
     "output_type": "execute_result"
    }
   ],
   "source": [
    "city_weather['coord']['lat']"
   ]
  },
  {
   "cell_type": "code",
   "execution_count": 68,
   "metadata": {},
   "outputs": [],
   "source": [
    "temp = city_weather['main']['temp']\n",
    "humidity = city_weather['main']['humidity']\n",
    "wind_speed = city_weather['wind']['speed']\n",
    "cloudiness = city_weather['clouds']['all']\n",
    "\n",
    "#print(f'Processing Record 1 of Set 1 | {city}')\n",
    "#print(temp, humidity, wind_speed, cloudiness)"
   ]
  },
  {
   "cell_type": "code",
   "execution_count": 69,
   "metadata": {},
   "outputs": [],
   "source": [
    "#Processing Record 1 of Set 1 | longyearbyen"
   ]
  },
  {
   "cell_type": "code",
   "execution_count": 70,
   "metadata": {},
   "outputs": [
    {
     "name": "stdout",
     "output_type": "stream",
     "text": [
      "Lat: 87.68704580766388, Long: -134.72084603600754\n"
     ]
    }
   ],
   "source": [
    "#lats = np.random.uniform(low=-90.000, high=90.000, size=1500) \n",
    "#lngs = np.random.uniform(low=-180.000, high=180.000, size=1500)\n",
    "\n",
    "one_lat = np.random.uniform(low=-90.000, high=90.000) \n",
    "one_long = np.random.uniform(low=-180.000, high=180.000)\n",
    "\n",
    "print(f'Lat: {one_lat}, Long: {one_long}')"
   ]
  },
  {
   "cell_type": "code",
   "execution_count": 71,
   "metadata": {},
   "outputs": [
    {
     "name": "stdout",
     "output_type": "stream",
     "text": [
      "tuktoyaktuk ca\n"
     ]
    }
   ],
   "source": [
    "# lat = 20\n",
    "# >>> lon = 75\n",
    "# >>> city = citipy.nearest_city(lat, lon)\n",
    "# >>> print(city)\n",
    "# <citipy.citipy.City object at 0x109724f98>\n",
    "# >>> city.city_name\n",
    "# 'khuldabad'\n",
    "# >>> city.country_code\n",
    "# 'in'\n",
    "\n",
    "one_city = citipy.nearest_city(one_lat, one_long)\n",
    "#print(one_city)\n",
    "city_name = one_city.city_name\n",
    "city_country_code = one_city.country_code\n",
    "\n",
    "print(city_name, city_country_code)\n"
   ]
  },
  {
   "cell_type": "code",
   "execution_count": 72,
   "metadata": {},
   "outputs": [
    {
     "name": "stdout",
     "output_type": "stream",
     "text": [
      "tuktoyaktuk,ca\n"
     ]
    }
   ],
   "source": [
    "query = city_name + ',' + city_country_code\n",
    "print(query)"
   ]
  },
  {
   "cell_type": "code",
   "execution_count": 73,
   "metadata": {},
   "outputs": [
    {
     "name": "stdout",
     "output_type": "stream",
     "text": [
      "http://api.openweathermap.org/data/2.5/weather?q=tuktoyaktuk%2Cca&units=IMPERIAL&mode=json&APPID=84e9790cfed06e9f791a3c163ba4c987\n"
     ]
    }
   ],
   "source": [
    "base_url = \"http://api.openweathermap.org/data/2.5/weather\"\n",
    "\n",
    "params = {\n",
    "    \"q\": query,\n",
    "    \"units\": \"IMPERIAL\",\n",
    "    \"mode\": \"json\",\n",
    "    \"APPID\": api_key\n",
    "}\n",
    "response = requests.get(base_url, params=params)\n",
    "print(response.url)"
   ]
  },
  {
   "cell_type": "code",
   "execution_count": 74,
   "metadata": {},
   "outputs": [],
   "source": [
    "samples = 5\n",
    "lats = np.random.uniform(low=-90.000, high=90.000, size=samples) \n",
    "lngs = np.random.uniform(low=-180.000, high=180.000, size=samples)\n",
    "\n",
    "lats = list(lats)\n",
    "lngs = list(lngs)\n"
   ]
  },
  {
   "cell_type": "code",
   "execution_count": 75,
   "metadata": {},
   "outputs": [
    {
     "name": "stdout",
     "output_type": "stream",
     "text": [
      "[-75.997444966658406, 17.345864165727662, -32.925705582317647, 34.726426915391571, -43.867378485089262] [-85.417059506253878, 118.14819411813596, 135.94464690409438, 57.248882143816985, 112.08713209342716]\n"
     ]
    }
   ],
   "source": [
    "print(lats,lngs)"
   ]
  },
  {
   "cell_type": "markdown",
   "metadata": {},
   "source": [
    "#np.delete(arr, 1, 0)\n",
    "\n",
    "np.delete(lats, 1, 0)\n",
    "lats"
   ]
  },
  {
   "cell_type": "code",
   "execution_count": 76,
   "metadata": {},
   "outputs": [
    {
     "data": {
      "text/plain": [
       "[-75.997444966658406,\n",
       " 17.345864165727662,\n",
       " -32.925705582317647,\n",
       " 34.726426915391571,\n",
       " -43.867378485089262]"
      ]
     },
     "execution_count": 76,
     "metadata": {},
     "output_type": "execute_result"
    }
   ],
   "source": [
    "lats = list(lats)\n",
    "lats"
   ]
  },
  {
   "cell_type": "markdown",
   "metadata": {},
   "source": [
    "del lats[1]\n",
    "lats"
   ]
  },
  {
   "cell_type": "code",
   "execution_count": 77,
   "metadata": {},
   "outputs": [],
   "source": [
    "# Actually don't think i need a dict\n",
    "\n",
    "# coordinates = {\"Latitude\": lats, \"Longitude\": lngs}\n",
    "# coordinates[]"
   ]
  },
  {
   "cell_type": "code",
   "execution_count": 78,
   "metadata": {},
   "outputs": [
    {
     "name": "stdout",
     "output_type": "stream",
     "text": [
      "-75.9974449667\n",
      "[-85.417059506253878, 118.14819411813596, 135.94464690409438, 57.248882143816985, 112.08713209342716]\n",
      "17.3458641657\n",
      "[-85.417059506253878, 118.14819411813596, 135.94464690409438, 57.248882143816985, 112.08713209342716]\n",
      "-32.9257055823\n",
      "[-85.417059506253878, 118.14819411813596, 135.94464690409438, 57.248882143816985, 112.08713209342716]\n",
      "34.7264269154\n",
      "[-85.417059506253878, 118.14819411813596, 135.94464690409438, 57.248882143816985, 112.08713209342716]\n",
      "-43.8673784851\n",
      "[-85.417059506253878, 118.14819411813596, 135.94464690409438, 57.248882143816985, 112.08713209342716]\n"
     ]
    }
   ],
   "source": [
    "for i in lats:\n",
    "    print(i)\n",
    "    print(lngs)\n",
    "#     print(lngs[i])"
   ]
  },
  {
   "cell_type": "code",
   "execution_count": 80,
   "metadata": {},
   "outputs": [
    {
     "name": "stdout",
     "output_type": "stream",
     "text": [
      "-75.9974449667 -85.4170595063\n",
      "Processing Record 1 of Set 1 | punta arenas\n",
      "17.3458641657 118.148194118\n",
      "Processing Record 2 of Set 1 | catuday\n",
      "-32.9257055823 135.944646904\n",
      "Processing Record 3 of Set 1 | whyalla\n",
      "34.7264269154 57.2488821438\n",
      "Processing Record 4 of Set 1 | tabas\n",
      "-43.8673784851 112.087132093\n",
      "Processing Record 5 of Set 1 | albany\n",
      "['punta arenas', 'catuday', 'whyalla', 'tabas', 'albany']\n",
      "['cl', 'ph', 'au', 'ir', 'au']\n",
      "[1510970400, 1510974578, 1510974000, 1510974579, 1510974305]\n",
      "[46.4, 85.84, 71.6, 30.58, 70.31]\n",
      "[65, 92, 53, 71, 89]\n",
      "[21.92, 7.52, 10.29, 1.88, 4.05]\n",
      "[90, 0, 0, 0, 76]\n"
     ]
    }
   ],
   "source": [
    "cities = []\n",
    "countries = []\n",
    "timestamps = []\n",
    "max_temps = []\n",
    "humidities = []\n",
    "windspeeds = []\n",
    "cloudiness = []\n",
    "\n",
    "j = 0\n",
    "while j < len(lats):\n",
    "    print(lats[j], lngs[j])\n",
    "    \n",
    "    one_city = citipy.nearest_city(lats[j], lngs[j])\n",
    "    city_name = one_city.city_name\n",
    "    city_country_code = one_city.country_code\n",
    "    \n",
    "    print(f'Processing Record {j+1} of Set 1 | {city_name}')\n",
    "\n",
    "    # Build OpenWeatherMap API query\n",
    "    \n",
    "    query = city_name + ',' + city_country_code\n",
    "    base_url = \"http://api.openweathermap.org/data/2.5/weather\"\n",
    "    params = {\n",
    "            \"q\": query,\n",
    "            \"units\": \"IMPERIAL\",\n",
    "            \"mode\": \"json\",\n",
    "            \"APPID\": api_key\n",
    "            }\n",
    "    response = requests.get(base_url, params=params)\n",
    "    city_weather = response.json()\n",
    "    \n",
    "    #print(city_name, city_country_code)\n",
    "\n",
    "    try:\n",
    "#         time = city_weather['dt']\n",
    "        #temp = city_weather['main']['temp']\n",
    "#         humidity = city_weather['main']['humidity']\n",
    "#         wind_speed = city_weather['wind']['speed']\n",
    "#         cloudiness = city_weather['clouds']['all']\n",
    "\n",
    "        timestamps.append(city_weather['dt'])\n",
    "        max_temps.append(city_weather['main']['temp'])\n",
    "        humidities.append(city_weather['main']['humidity'])\n",
    "        windspeeds.append(city_weather['wind']['speed'])\n",
    "        cloudiness.append(city_weather['clouds']['all'])\n",
    "        \n",
    "        cities.append(one_city.city_name)\n",
    "        countries.append(one_city.country_code)\n",
    "        \n",
    "        #print(temp)\n",
    "\n",
    "        \n",
    "#         print(time, temp, humidity, wind_speed, cloudiness)\n",
    "        \n",
    "        j += 1\n",
    "    \n",
    "    except KeyError:\n",
    "        del lats[j]\n",
    "        del lngs[j]\n",
    "        print(\"Oops, that city doesn't exist in OpenWeatherMap.\")\n",
    "        \n",
    "\n",
    "# print(cities)\n",
    "# print(countries)\n",
    "# print(timestamps)\n",
    "# print(max_temps)\n",
    "# print(humidities)\n",
    "# print(windspeeds)\n",
    "# print(cloudiness)"
   ]
  },
  {
   "cell_type": "code",
   "execution_count": 82,
   "metadata": {},
   "outputs": [
    {
     "data": {
      "text/html": [
       "<div>\n",
       "<style>\n",
       "    .dataframe thead tr:only-child th {\n",
       "        text-align: right;\n",
       "    }\n",
       "\n",
       "    .dataframe thead th {\n",
       "        text-align: left;\n",
       "    }\n",
       "\n",
       "    .dataframe tbody tr th {\n",
       "        vertical-align: top;\n",
       "    }\n",
       "</style>\n",
       "<table border=\"1\" class=\"dataframe\">\n",
       "  <thead>\n",
       "    <tr style=\"text-align: right;\">\n",
       "      <th></th>\n",
       "      <th>City</th>\n",
       "      <th>Country</th>\n",
       "      <th>Latitude</th>\n",
       "      <th>Longitude</th>\n",
       "      <th>Timestamp</th>\n",
       "      <th>Max Temperature</th>\n",
       "      <th>Humidity</th>\n",
       "      <th>Windspeed</th>\n",
       "      <th>Cloudiness</th>\n",
       "    </tr>\n",
       "  </thead>\n",
       "  <tbody>\n",
       "    <tr>\n",
       "      <th>0</th>\n",
       "      <td>punta arenas</td>\n",
       "      <td>cl</td>\n",
       "      <td>-75.997445</td>\n",
       "      <td>-85.417060</td>\n",
       "      <td>1510970400</td>\n",
       "      <td>46.40</td>\n",
       "      <td>65</td>\n",
       "      <td>21.92</td>\n",
       "      <td>90</td>\n",
       "    </tr>\n",
       "    <tr>\n",
       "      <th>1</th>\n",
       "      <td>catuday</td>\n",
       "      <td>ph</td>\n",
       "      <td>17.345864</td>\n",
       "      <td>118.148194</td>\n",
       "      <td>1510974578</td>\n",
       "      <td>85.84</td>\n",
       "      <td>92</td>\n",
       "      <td>7.52</td>\n",
       "      <td>0</td>\n",
       "    </tr>\n",
       "    <tr>\n",
       "      <th>2</th>\n",
       "      <td>whyalla</td>\n",
       "      <td>au</td>\n",
       "      <td>-32.925706</td>\n",
       "      <td>135.944647</td>\n",
       "      <td>1510974000</td>\n",
       "      <td>71.60</td>\n",
       "      <td>53</td>\n",
       "      <td>10.29</td>\n",
       "      <td>0</td>\n",
       "    </tr>\n",
       "    <tr>\n",
       "      <th>3</th>\n",
       "      <td>tabas</td>\n",
       "      <td>ir</td>\n",
       "      <td>34.726427</td>\n",
       "      <td>57.248882</td>\n",
       "      <td>1510974579</td>\n",
       "      <td>30.58</td>\n",
       "      <td>71</td>\n",
       "      <td>1.88</td>\n",
       "      <td>0</td>\n",
       "    </tr>\n",
       "    <tr>\n",
       "      <th>4</th>\n",
       "      <td>albany</td>\n",
       "      <td>au</td>\n",
       "      <td>-43.867378</td>\n",
       "      <td>112.087132</td>\n",
       "      <td>1510974305</td>\n",
       "      <td>70.31</td>\n",
       "      <td>89</td>\n",
       "      <td>4.05</td>\n",
       "      <td>76</td>\n",
       "    </tr>\n",
       "  </tbody>\n",
       "</table>\n",
       "</div>"
      ],
      "text/plain": [
       "           City Country   Latitude   Longitude   Timestamp  Max Temperature  \\\n",
       "0  punta arenas      cl -75.997445  -85.417060  1510970400            46.40   \n",
       "1       catuday      ph  17.345864  118.148194  1510974578            85.84   \n",
       "2       whyalla      au -32.925706  135.944647  1510974000            71.60   \n",
       "3         tabas      ir  34.726427   57.248882  1510974579            30.58   \n",
       "4        albany      au -43.867378  112.087132  1510974305            70.31   \n",
       "\n",
       "   Humidity  Windspeed  Cloudiness  \n",
       "0        65      21.92          90  \n",
       "1        92       7.52           0  \n",
       "2        53      10.29           0  \n",
       "3        71       1.88           0  \n",
       "4        89       4.05          76  "
      ]
     },
     "execution_count": 82,
     "metadata": {},
     "output_type": "execute_result"
    }
   ],
   "source": [
    "# Create and populate summary dataframe\n",
    "\n",
    "summary_df = pd.DataFrame({'City':cities,\n",
    "                           'Country':countries,\n",
    "                           'Latitude':lats,\n",
    "                           'Longitude':lngs,\n",
    "                           'Timestamp':timestamps,\n",
    "                           'Max Temperature':max_temps,\n",
    "                           'Humidity':humidities,\n",
    "                           'Windspeed':windspeeds,\n",
    "                           'Cloudiness':cloudiness\n",
    "                          })\n",
    "\n",
    "# Configure dataframe column order and display\n",
    "summary_df = summary_df[['City',\n",
    "                         'Country',\n",
    "                         'Latitude',\n",
    "                         'Longitude',\n",
    "                         'Timestamp',\n",
    "                         'Max Temperature',\n",
    "                         'Humidity',\n",
    "                         'Windspeed',\n",
    "                         'Cloudiness']]\n",
    "\n",
    "summary_df"
   ]
  },
  {
   "cell_type": "code",
   "execution_count": 83,
   "metadata": {
    "collapsed": true
   },
   "outputs": [],
   "source": [
    "# Save the DataFrame as a csv\n",
    "### summary_df.to_csv(\"OpenWeatherMath-random.csv\", encoding=\"utf-8\", index=False)"
   ]
  },
  {
   "cell_type": "code",
   "execution_count": null,
   "metadata": {
    "collapsed": true
   },
   "outputs": [],
   "source": []
  },
  {
   "cell_type": "code",
   "execution_count": null,
   "metadata": {
    "collapsed": true
   },
   "outputs": [],
   "source": []
  }
 ],
 "metadata": {
  "kernelspec": {
   "display_name": "Python 3",
   "language": "python",
   "name": "python3"
  },
  "language_info": {
   "codemirror_mode": {
    "name": "ipython",
    "version": 3
   },
   "file_extension": ".py",
   "mimetype": "text/x-python",
   "name": "python",
   "nbconvert_exporter": "python",
   "pygments_lexer": "ipython3",
   "version": "3.6.2"
  }
 },
 "nbformat": 4,
 "nbformat_minor": 2
}
