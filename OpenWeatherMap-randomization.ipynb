{
 "cells": [
  {
   "cell_type": "code",
   "execution_count": 106,
   "metadata": {
    "collapsed": true
   },
   "outputs": [],
   "source": [
    "# Latitude values are measured relative to the equator and range from -90° at the South Pole to +90° at the North Pole. Longitude values are measured relative to the prime meridian. They range from -180° when traveling west to 180° when traveling east. If the prime meridian is at Greenwich, then Australia, which is south of the equator and east of Greenwich, has positive longitude values and negative latitude values.\n",
    "# http://desktop.arcgis.com/en/arcmap/10.3/guide-books/map-projections/about-geographic-coordinate-systems.htm\n",
    "# citipy??\n",
    "\n",
    "# X Name a city, feed to OWM\n",
    "# X Peform weather check\n",
    "# X Understand JSON set up\n",
    "# X Identify Temp, Humid, Cloud, Wind Speed\n",
    "\n",
    "# X Randomly generate 1 lat/long combo within repspective ranges\n",
    "# X Test in CitiPy; get city name\n",
    "# X Feed to OWM\n",
    "# Pull stuff from JSON\n",
    "\n",
    "# X ok - Randomly generate 500 lat/longs\n",
    "# Kill dupes\n",
    "# X Citipy\n",
    "# Print this!\n",
    "\n",
    "# X Feed list to OWM\n",
    "# X Loop for info\n",
    "# X If 404, lat/longLIST.POP? and CONTINUE\n",
    "# X Store\n",
    "\n",
    "# Csv: csvpath = os.path.join(\"04-Pandas\",\"1\",\"Activities\", \"02-Stu_NetflixRemix\", \"Resources\",\"netflix_ratings.csv\")\n",
    "# Save the DataFrame as a csv\n",
    "###*** dataframe.to_csv(\"output_analysis/zip_bank_data.csv\", encoding=\"utf-8\", index=False)\n",
    "\n",
    "# Create graphs\n",
    "# Done\n",
    "\n",
    "#404: http://api.openweathermap.org/data/2.5/weather?q=grand+river+south+east%2Cmu&units=IMPERIAL&mode=json&APPID=84e9790cfed06e9f791a3c163ba4c987"
   ]
  },
  {
   "cell_type": "markdown",
   "metadata": {},
   "source": [
    "#How to work with citipy:\n",
    "\n",
    "lat = 20\n",
    ">>> lon = 75\n",
    ">>> city = citipy.nearest_city(lat, lon)\n",
    ">>> print(city)\n",
    "<citipy.citipy.City object at 0x109724f98>\n",
    ">>> city.city_name\n",
    "'khuldabad'\n",
    ">>> city.country_code\n",
    "'in'\n",
    "\n",
    "Openweather: Please, always use your API keys as &APPID=key\n"
   ]
  },
  {
   "cell_type": "markdown",
   "metadata": {},
   "source": [
    "lats = np.random.uniform(low=-90.000, high=90.000, size=1500)\n",
    "lngs = np.random.uniform(low=-180.000, high=180.000, size=1500)\n",
    "\n",
    "just a heads up, using randomly generated lats/longs can pick points in the ocean. citipy.nearest_city can be used to find cities that can be queried on\n",
    "\n",
    "Processing Record 1 of Set 1 | longyearbyen"
   ]
  },
  {
   "cell_type": "code",
   "execution_count": 107,
   "metadata": {
    "collapsed": true
   },
   "outputs": [],
   "source": [
    "# Import Dependencies\n",
    "import numpy as np\n",
    "import matplotlib.pyplot as plt\n",
    "import pandas as pd\n",
    "import json\n",
    "import requests\n",
    "import datetime\n",
    "from citipy import citipy\n",
    "from config import api_key"
   ]
  },
  {
   "cell_type": "markdown",
   "metadata": {},
   "source": [
    "#api.openweathermap.org/data/2.5/weather?q=London,uk\n",
    "\n",
    "target_url = \"http://api.openweathermap.org/data/2.5/weather\" \\\n",
    "    \"?q=Phoenix,us&units=IMPERIAL&mode=json&APPID=\" + api_key\n",
    "    \n",
    "#api.openweathermap.org/data/2.5/weather?q=London,uk"
   ]
  },
  {
   "cell_type": "code",
   "execution_count": 108,
   "metadata": {
    "collapsed": true
   },
   "outputs": [],
   "source": [
    "base_url = \"http://api.openweathermap.org/data/2.5/weather\"\n",
    "\n",
    "params = {\n",
    "    \"q\": \"New York,US\",\n",
    "    \"units\": \"IMPERIAL\",\n",
    "    \"mode\": \"json\",\n",
    "    \"APPID\": api_key\n",
    "}"
   ]
  },
  {
   "cell_type": "code",
   "execution_count": 109,
   "metadata": {
    "scrolled": true
   },
   "outputs": [
    {
     "name": "stdout",
     "output_type": "stream",
     "text": [
      "http://api.openweathermap.org/data/2.5/weather?q=New+York%2CUS&units=IMPERIAL&mode=json&APPID=84e9790cfed06e9f791a3c163ba4c987\n"
     ]
    }
   ],
   "source": [
    "response = requests.get(base_url, params=params)\n",
    "print(response.url)"
   ]
  },
  {
   "cell_type": "code",
   "execution_count": 110,
   "metadata": {},
   "outputs": [
    {
     "data": {
      "text/plain": [
       "dict_keys(['coord', 'weather', 'base', 'main', 'visibility', 'wind', 'clouds', 'dt', 'sys', 'id', 'name', 'cod'])"
      ]
     },
     "execution_count": 110,
     "metadata": {},
     "output_type": "execute_result"
    }
   ],
   "source": [
    "city_weather = response.json()\n",
    "city_weather.keys()"
   ]
  },
  {
   "cell_type": "code",
   "execution_count": 111,
   "metadata": {},
   "outputs": [
    {
     "data": {
      "text/plain": [
       "{'lat': 40.71, 'lon': -74.01}"
      ]
     },
     "execution_count": 111,
     "metadata": {},
     "output_type": "execute_result"
    }
   ],
   "source": [
    "city_weather['coord']"
   ]
  },
  {
   "cell_type": "code",
   "execution_count": 112,
   "metadata": {},
   "outputs": [
    {
     "data": {
      "text/plain": [
       "40.71"
      ]
     },
     "execution_count": 112,
     "metadata": {},
     "output_type": "execute_result"
    }
   ],
   "source": [
    "city_weather['coord']['lat']"
   ]
  },
  {
   "cell_type": "code",
   "execution_count": 113,
   "metadata": {},
   "outputs": [],
   "source": [
    "temp = city_weather['main']['temp']\n",
    "humidity = city_weather['main']['humidity']\n",
    "wind_speed = city_weather['wind']['speed']\n",
    "cloudiness = city_weather['clouds']['all']\n",
    "\n",
    "#print(f'Processing Record 1 of Set 1 | {city}')\n",
    "#print(temp, humidity, wind_speed, cloudiness)"
   ]
  },
  {
   "cell_type": "code",
   "execution_count": 114,
   "metadata": {},
   "outputs": [],
   "source": [
    "#Processing Record 1 of Set 1 | longyearbyen"
   ]
  },
  {
   "cell_type": "code",
   "execution_count": 115,
   "metadata": {},
   "outputs": [
    {
     "name": "stdout",
     "output_type": "stream",
     "text": [
      "Lat: 74.06790918040247, Long: 164.99480506778264\n"
     ]
    }
   ],
   "source": [
    "#lats = np.random.uniform(low=-90.000, high=90.000, size=1500) \n",
    "#lngs = np.random.uniform(low=-180.000, high=180.000, size=1500)\n",
    "\n",
    "one_lat = np.random.uniform(low=-90.000, high=90.000) \n",
    "one_long = np.random.uniform(low=-180.000, high=180.000)\n",
    "\n",
    "print(f'Lat: {one_lat}, Long: {one_long}')"
   ]
  },
  {
   "cell_type": "code",
   "execution_count": 116,
   "metadata": {},
   "outputs": [
    {
     "name": "stdout",
     "output_type": "stream",
     "text": [
      "bilibino ru\n"
     ]
    }
   ],
   "source": [
    "# lat = 20\n",
    "# >>> lon = 75\n",
    "# >>> city = citipy.nearest_city(lat, lon)\n",
    "# >>> print(city)\n",
    "# <citipy.citipy.City object at 0x109724f98>\n",
    "# >>> city.city_name\n",
    "# 'khuldabad'\n",
    "# >>> city.country_code\n",
    "# 'in'\n",
    "\n",
    "one_city = citipy.nearest_city(one_lat, one_long)\n",
    "#print(one_city)\n",
    "city_name = one_city.city_name\n",
    "city_country_code = one_city.country_code\n",
    "\n",
    "print(city_name, city_country_code)\n"
   ]
  },
  {
   "cell_type": "code",
   "execution_count": 117,
   "metadata": {},
   "outputs": [
    {
     "name": "stdout",
     "output_type": "stream",
     "text": [
      "bilibino,ru\n"
     ]
    }
   ],
   "source": [
    "query = city_name + ',' + city_country_code\n",
    "print(query)"
   ]
  },
  {
   "cell_type": "code",
   "execution_count": 118,
   "metadata": {},
   "outputs": [
    {
     "name": "stdout",
     "output_type": "stream",
     "text": [
      "http://api.openweathermap.org/data/2.5/weather?q=bilibino%2Cru&units=IMPERIAL&mode=json&APPID=84e9790cfed06e9f791a3c163ba4c987\n"
     ]
    }
   ],
   "source": [
    "base_url = \"http://api.openweathermap.org/data/2.5/weather\"\n",
    "\n",
    "params = {\n",
    "    \"q\": query,\n",
    "    \"units\": \"IMPERIAL\",\n",
    "    \"mode\": \"json\",\n",
    "    \"APPID\": api_key\n",
    "}\n",
    "response = requests.get(base_url, params=params)\n",
    "print(response.url)"
   ]
  },
  {
   "cell_type": "code",
   "execution_count": 119,
   "metadata": {},
   "outputs": [],
   "source": [
    "samples = 5\n",
    "lats = np.random.uniform(low=-90.000, high=90.000, size=samples) \n",
    "lngs = np.random.uniform(low=-180.000, high=180.000, size=samples)\n",
    "\n",
    "lats = list(lats)\n",
    "lngs = list(lngs)\n"
   ]
  },
  {
   "cell_type": "code",
   "execution_count": 120,
   "metadata": {},
   "outputs": [
    {
     "name": "stdout",
     "output_type": "stream",
     "text": [
      "[-34.609069235294712, 4.7905148084479094, 82.422807340565015, 64.918862685096116, 77.74969185245385] [-136.9054224237079, -100.07641457490891, 88.371563741684554, -5.7012813875223287, 79.838412543494485]\n"
     ]
    }
   ],
   "source": [
    "print(lats,lngs)"
   ]
  },
  {
   "cell_type": "markdown",
   "metadata": {},
   "source": [
    "#np.delete(arr, 1, 0)\n",
    "\n",
    "np.delete(lats, 1, 0)\n",
    "lats"
   ]
  },
  {
   "cell_type": "code",
   "execution_count": 121,
   "metadata": {},
   "outputs": [
    {
     "data": {
      "text/plain": [
       "[-34.609069235294712,\n",
       " 4.7905148084479094,\n",
       " 82.422807340565015,\n",
       " 64.918862685096116,\n",
       " 77.74969185245385]"
      ]
     },
     "execution_count": 121,
     "metadata": {},
     "output_type": "execute_result"
    }
   ],
   "source": [
    "lats = list(lats)\n",
    "lats"
   ]
  },
  {
   "cell_type": "markdown",
   "metadata": {},
   "source": [
    "del lats[1]\n",
    "lats"
   ]
  },
  {
   "cell_type": "code",
   "execution_count": 122,
   "metadata": {},
   "outputs": [],
   "source": [
    "# Actually don't think i need a dict\n",
    "\n",
    "# coordinates = {\"Latitude\": lats, \"Longitude\": lngs}\n",
    "# coordinates[]"
   ]
  },
  {
   "cell_type": "code",
   "execution_count": 123,
   "metadata": {},
   "outputs": [
    {
     "name": "stdout",
     "output_type": "stream",
     "text": [
      "-34.6090692353\n",
      "[-136.9054224237079, -100.07641457490891, 88.371563741684554, -5.7012813875223287, 79.838412543494485]\n",
      "4.79051480845\n",
      "[-136.9054224237079, -100.07641457490891, 88.371563741684554, -5.7012813875223287, 79.838412543494485]\n",
      "82.4228073406\n",
      "[-136.9054224237079, -100.07641457490891, 88.371563741684554, -5.7012813875223287, 79.838412543494485]\n",
      "64.9188626851\n",
      "[-136.9054224237079, -100.07641457490891, 88.371563741684554, -5.7012813875223287, 79.838412543494485]\n",
      "77.7496918525\n",
      "[-136.9054224237079, -100.07641457490891, 88.371563741684554, -5.7012813875223287, 79.838412543494485]\n"
     ]
    }
   ],
   "source": [
    "for i in lats:\n",
    "    print(i)\n",
    "    print(lngs)\n",
    "#     print(lngs[i])"
   ]
  },
  {
   "cell_type": "code",
   "execution_count": 130,
   "metadata": {},
   "outputs": [
    {
     "name": "stdout",
     "output_type": "stream",
     "text": [
      "-34.6090692353 -136.905422424\n",
      "Processing Record 1 of Set 1 | rikitea\n",
      "4.79051480845 -100.076414575\n",
      "Processing Record 2 of Set 1 | puerto ayora\n",
      "82.4228073406 88.3715637417\n",
      "Processing Record 3 of Set 1 | dikson\n",
      "64.9188626851 -5.70128138752\n",
      "Processing Record 4 of Set 1 | klaksvik\n",
      "77.7496918525 79.8384125435\n",
      "Processing Record 5 of Set 1 | dikson\n",
      "['11-17-2017', '11-17-2017', '11-17-2017', '11-17-2017', '11-17-2017']\n"
     ]
    }
   ],
   "source": [
    "cities = []\n",
    "countries = []\n",
    "timestamps = []\n",
    "dates = []\n",
    "max_temps = []\n",
    "humidities = []\n",
    "windspeeds = []\n",
    "cloudiness = []\n",
    "\n",
    "j = 0\n",
    "while j < len(lats):\n",
    "    print(lats[j], lngs[j])\n",
    "    \n",
    "    one_city = citipy.nearest_city(lats[j], lngs[j])\n",
    "    city_name = one_city.city_name\n",
    "    city_country_code = one_city.country_code\n",
    "    \n",
    "    print(f'Processing Record {j+1} of Set 1 | {city_name}')\n",
    "\n",
    "    # Build OpenWeatherMap API query\n",
    "    \n",
    "    query = city_name + ',' + city_country_code\n",
    "    base_url = \"http://api.openweathermap.org/data/2.5/weather\"\n",
    "    params = {\n",
    "            \"q\": query,\n",
    "            \"units\": \"IMPERIAL\",\n",
    "            \"mode\": \"json\",\n",
    "            \"APPID\": api_key\n",
    "            }\n",
    "    response = requests.get(base_url, params=params)\n",
    "    city_weather = response.json()\n",
    "    \n",
    "    #print(city_name, city_country_code)\n",
    "\n",
    "    try:\n",
    "#         time = city_weather['dt']\n",
    "        #temp = city_weather['main']['temp']\n",
    "#         humidity = city_weather['main']['humidity']\n",
    "#         wind_speed = city_weather['wind']['speed']\n",
    "#         cloudiness = city_weather['clouds']['all']\n",
    "\n",
    "        timestamps.append(city_weather['dt'])\n",
    "        dates.append(datetime.datetime.fromtimestamp\\\n",
    "                     (int(city_weather['dt'])).strftime('%m-%d-%Y'))\n",
    "#         dates.append(datetime.datetime.fromtimestamp\\\n",
    "#                      (int(city_weather['dt'])).strftime('%Y-%m-%d'))\n",
    "        max_temps.append(city_weather['main']['temp'])\n",
    "        humidities.append(city_weather['main']['humidity'])\n",
    "        windspeeds.append(city_weather['wind']['speed'])\n",
    "        cloudiness.append(city_weather['clouds']['all'])\n",
    "        \n",
    "        cities.append(one_city.city_name)\n",
    "        countries.append(one_city.country_code)\n",
    "        \n",
    "        #print(temp)\n",
    "\n",
    "        \n",
    "#         print(time, temp, humidity, wind_speed, cloudiness)\n",
    "        \n",
    "        j += 1\n",
    "    \n",
    "    except KeyError:\n",
    "        del lats[j]\n",
    "        del lngs[j]\n",
    "        print(\"Oops, that city doesn't exist in OpenWeatherMap.\")\n",
    "        \n",
    "\n",
    "# print(cities)\n",
    "# print(countries)\n",
    "# print(timestamps)\n",
    "print(dates)\n",
    "# print(max_temps)\n",
    "# print(humidities)\n",
    "# print(windspeeds)\n",
    "# print(cloudiness)"
   ]
  },
  {
   "cell_type": "code",
   "execution_count": 131,
   "metadata": {},
   "outputs": [
    {
     "data": {
      "text/html": [
       "<div>\n",
       "<style>\n",
       "    .dataframe thead tr:only-child th {\n",
       "        text-align: right;\n",
       "    }\n",
       "\n",
       "    .dataframe thead th {\n",
       "        text-align: left;\n",
       "    }\n",
       "\n",
       "    .dataframe tbody tr th {\n",
       "        vertical-align: top;\n",
       "    }\n",
       "</style>\n",
       "<table border=\"1\" class=\"dataframe\">\n",
       "  <thead>\n",
       "    <tr style=\"text-align: right;\">\n",
       "      <th></th>\n",
       "      <th>City</th>\n",
       "      <th>Country</th>\n",
       "      <th>Latitude</th>\n",
       "      <th>Longitude</th>\n",
       "      <th>Timestamp</th>\n",
       "      <th>Date</th>\n",
       "      <th>Max Temperature</th>\n",
       "      <th>Humidity</th>\n",
       "      <th>Windspeed</th>\n",
       "      <th>Cloudiness</th>\n",
       "    </tr>\n",
       "  </thead>\n",
       "  <tbody>\n",
       "    <tr>\n",
       "      <th>0</th>\n",
       "      <td>rikitea</td>\n",
       "      <td>pf</td>\n",
       "      <td>-34.609069</td>\n",
       "      <td>-136.905422</td>\n",
       "      <td>1510976623</td>\n",
       "      <td>11-17-2017</td>\n",
       "      <td>72.79</td>\n",
       "      <td>100</td>\n",
       "      <td>22.73</td>\n",
       "      <td>64</td>\n",
       "    </tr>\n",
       "    <tr>\n",
       "      <th>1</th>\n",
       "      <td>puerto ayora</td>\n",
       "      <td>ec</td>\n",
       "      <td>4.790515</td>\n",
       "      <td>-100.076415</td>\n",
       "      <td>1510976623</td>\n",
       "      <td>11-17-2017</td>\n",
       "      <td>68.24</td>\n",
       "      <td>100</td>\n",
       "      <td>11.65</td>\n",
       "      <td>8</td>\n",
       "    </tr>\n",
       "    <tr>\n",
       "      <th>2</th>\n",
       "      <td>dikson</td>\n",
       "      <td>ru</td>\n",
       "      <td>82.422807</td>\n",
       "      <td>88.371564</td>\n",
       "      <td>1510976624</td>\n",
       "      <td>11-17-2017</td>\n",
       "      <td>-3.76</td>\n",
       "      <td>100</td>\n",
       "      <td>13.78</td>\n",
       "      <td>8</td>\n",
       "    </tr>\n",
       "    <tr>\n",
       "      <th>3</th>\n",
       "      <td>klaksvik</td>\n",
       "      <td>fo</td>\n",
       "      <td>64.918863</td>\n",
       "      <td>-5.701281</td>\n",
       "      <td>1510975200</td>\n",
       "      <td>11-17-2017</td>\n",
       "      <td>39.20</td>\n",
       "      <td>93</td>\n",
       "      <td>28.86</td>\n",
       "      <td>92</td>\n",
       "    </tr>\n",
       "    <tr>\n",
       "      <th>4</th>\n",
       "      <td>dikson</td>\n",
       "      <td>ru</td>\n",
       "      <td>77.749692</td>\n",
       "      <td>79.838413</td>\n",
       "      <td>1510976624</td>\n",
       "      <td>11-17-2017</td>\n",
       "      <td>-3.76</td>\n",
       "      <td>100</td>\n",
       "      <td>13.78</td>\n",
       "      <td>8</td>\n",
       "    </tr>\n",
       "  </tbody>\n",
       "</table>\n",
       "</div>"
      ],
      "text/plain": [
       "           City Country   Latitude   Longitude   Timestamp        Date  \\\n",
       "0       rikitea      pf -34.609069 -136.905422  1510976623  11-17-2017   \n",
       "1  puerto ayora      ec   4.790515 -100.076415  1510976623  11-17-2017   \n",
       "2        dikson      ru  82.422807   88.371564  1510976624  11-17-2017   \n",
       "3      klaksvik      fo  64.918863   -5.701281  1510975200  11-17-2017   \n",
       "4        dikson      ru  77.749692   79.838413  1510976624  11-17-2017   \n",
       "\n",
       "   Max Temperature  Humidity  Windspeed  Cloudiness  \n",
       "0            72.79       100      22.73          64  \n",
       "1            68.24       100      11.65           8  \n",
       "2            -3.76       100      13.78           8  \n",
       "3            39.20        93      28.86          92  \n",
       "4            -3.76       100      13.78           8  "
      ]
     },
     "execution_count": 131,
     "metadata": {},
     "output_type": "execute_result"
    }
   ],
   "source": [
    "# Create and populate summary dataframe\n",
    "\n",
    "summary_df = pd.DataFrame({'City':cities,\n",
    "                           'Country':countries,\n",
    "                           'Latitude':lats,\n",
    "                           'Longitude':lngs,\n",
    "                           'Timestamp':timestamps,\n",
    "                           'Date':dates,\n",
    "                           'Max Temperature':max_temps,\n",
    "                           'Humidity':humidities,\n",
    "                           'Windspeed':windspeeds,\n",
    "                           'Cloudiness':cloudiness\n",
    "                          })\n",
    "\n",
    "# Configure dataframe column order and display\n",
    "summary_df = summary_df[['City',\n",
    "                         'Country',\n",
    "                         'Latitude',\n",
    "                         'Longitude',\n",
    "                         'Timestamp',\n",
    "                         'Date',\n",
    "                         'Max Temperature',\n",
    "                         'Humidity',\n",
    "                         'Windspeed',\n",
    "                         'Cloudiness']]\n",
    "\n",
    "summary_df"
   ]
  },
  {
   "cell_type": "code",
   "execution_count": 132,
   "metadata": {
    "collapsed": true
   },
   "outputs": [],
   "source": [
    "# Save the DataFrame as a csv\n",
    "### summary_df.to_csv(\"OpenWeatherMath-random.csv\", encoding=\"utf-8\", index=False)"
   ]
  },
  {
   "cell_type": "code",
   "execution_count": null,
   "metadata": {
    "collapsed": true
   },
   "outputs": [],
   "source": []
  },
  {
   "cell_type": "code",
   "execution_count": null,
   "metadata": {
    "collapsed": true
   },
   "outputs": [],
   "source": []
  }
 ],
 "metadata": {
  "kernelspec": {
   "display_name": "Python 3",
   "language": "python",
   "name": "python3"
  },
  "language_info": {
   "codemirror_mode": {
    "name": "ipython",
    "version": 3
   },
   "file_extension": ".py",
   "mimetype": "text/x-python",
   "name": "python",
   "nbconvert_exporter": "python",
   "pygments_lexer": "ipython3",
   "version": "3.6.2"
  }
 },
 "nbformat": 4,
 "nbformat_minor": 2
}
